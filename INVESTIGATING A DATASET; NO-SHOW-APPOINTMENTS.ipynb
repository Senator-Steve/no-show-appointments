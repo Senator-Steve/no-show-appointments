{
 "cells": [
  {
   "cell_type": "markdown",
   "id": "920fafd7",
   "metadata": {},
   "source": [
    "_Abejide Oluwasegun_\n",
    "- Project"
   ]
  },
  {
   "cell_type": "markdown",
   "id": "a23a3cf0",
   "metadata": {},
   "source": [
    "# Introduction\n",
    "\n",
    "This No Show Appointment dataset was gotten from Kaggle. It contains over 110,000 patient records for a hospital in Brazil. The records contained in the dataset consists of the PatientId, Appointment Id, Gender, Appointment day, Neighbourhood, Scheduled days for a visit, Age, Alcoholism status, Scholarship status and a brief detail of if a patient is suffering from a few diseases or disability"
   ]
  },
  {
   "cell_type": "markdown",
   "id": "4fa39e90",
   "metadata": {},
   "source": [
    "This analysis looks to answer the following Questions;\n",
    "\n",
    "- Does gender have an effect on no show appointments?\n",
    "\n",
    "- Are patients more likely to miss an appointment on a weekday than a weekend?\n",
    "\n",
    "-  Are older patients more likely to miss an appointment than the younger ones?\n",
    "\n",
    "- Which neighbourhoods have the highest and least show up rates ?\n"
   ]
  },
  {
   "cell_type": "code",
   "execution_count": 1,
   "id": "5b151403",
   "metadata": {},
   "outputs": [],
   "source": [
    "import pandas as pd\n",
    "import numpy as np\n",
    "import matplotlib.pyplot as plt\n",
    "%matplotlib inline\n",
    "import seaborn as sns\n",
    "sns.set_style('darkgrid')\n"
   ]
  },
  {
   "cell_type": "code",
   "execution_count": 2,
   "id": "217a66eb",
   "metadata": {},
   "outputs": [],
   "source": [
    "df = pd.read_csv('C:\\\\Users\\\\Admin\\\\Desktop\\\\noshowappointments-kagglev2-may-2016.csv')"
   ]
  },
  {
   "cell_type": "markdown",
   "id": "93268336",
   "metadata": {},
   "source": [
    "DATA INSPECTION\n"
   ]
  },
  {
   "cell_type": "code",
   "execution_count": 3,
   "id": "a7a7a4d3",
   "metadata": {},
   "outputs": [
    {
     "data": {
      "text/plain": [
       "(110527, 14)"
      ]
     },
     "execution_count": 3,
     "metadata": {},
     "output_type": "execute_result"
    }
   ],
   "source": [
    "df.shape"
   ]
  },
  {
   "cell_type": "markdown",
   "id": "4d263089",
   "metadata": {},
   "source": [
    "The Dataset contains 110527 observations and 14 columns"
   ]
  },
  {
   "cell_type": "code",
   "execution_count": 4,
   "id": "cb36c464",
   "metadata": {},
   "outputs": [
    {
     "name": "stdout",
     "output_type": "stream",
     "text": [
      "<class 'pandas.core.frame.DataFrame'>\n",
      "RangeIndex: 110527 entries, 0 to 110526\n",
      "Data columns (total 14 columns):\n",
      " #   Column          Non-Null Count   Dtype  \n",
      "---  ------          --------------   -----  \n",
      " 0   PatientId       110527 non-null  float64\n",
      " 1   AppointmentID   110527 non-null  int64  \n",
      " 2   Gender          110527 non-null  object \n",
      " 3   ScheduledDay    110527 non-null  object \n",
      " 4   AppointmentDay  110527 non-null  object \n",
      " 5   Age             110527 non-null  int64  \n",
      " 6   Neighbourhood   110527 non-null  object \n",
      " 7   Scholarship     110527 non-null  int64  \n",
      " 8   Hipertension    110527 non-null  int64  \n",
      " 9   Diabetes        110527 non-null  int64  \n",
      " 10  Alcoholism      110527 non-null  int64  \n",
      " 11  Handcap         110527 non-null  int64  \n",
      " 12  SMS_received    110527 non-null  int64  \n",
      " 13  No-show         110527 non-null  object \n",
      "dtypes: float64(1), int64(8), object(5)\n",
      "memory usage: 11.8+ MB\n"
     ]
    }
   ],
   "source": [
    "df.info()"
   ]
  },
  {
   "cell_type": "code",
   "execution_count": 5,
   "id": "0f237e03",
   "metadata": {},
   "outputs": [
    {
     "data": {
      "text/plain": [
       "0"
      ]
     },
     "execution_count": 5,
     "metadata": {},
     "output_type": "execute_result"
    }
   ],
   "source": [
    "df.isnull().sum().sum()"
   ]
  },
  {
   "cell_type": "markdown",
   "id": "68593069",
   "metadata": {},
   "source": [
    "The Dataset contains no null values"
   ]
  },
  {
   "cell_type": "code",
   "execution_count": 6,
   "id": "460950a5",
   "metadata": {},
   "outputs": [
    {
     "data": {
      "text/plain": [
       "0"
      ]
     },
     "execution_count": 6,
     "metadata": {},
     "output_type": "execute_result"
    }
   ],
   "source": [
    "df.duplicated().sum()"
   ]
  },
  {
   "cell_type": "code",
   "execution_count": 7,
   "id": "78475db6",
   "metadata": {},
   "outputs": [
    {
     "data": {
      "text/html": [
       "<div>\n",
       "<style scoped>\n",
       "    .dataframe tbody tr th:only-of-type {\n",
       "        vertical-align: middle;\n",
       "    }\n",
       "\n",
       "    .dataframe tbody tr th {\n",
       "        vertical-align: top;\n",
       "    }\n",
       "\n",
       "    .dataframe thead th {\n",
       "        text-align: right;\n",
       "    }\n",
       "</style>\n",
       "<table border=\"1\" class=\"dataframe\">\n",
       "  <thead>\n",
       "    <tr style=\"text-align: right;\">\n",
       "      <th></th>\n",
       "      <th>PatientId</th>\n",
       "      <th>AppointmentID</th>\n",
       "      <th>Age</th>\n",
       "      <th>Scholarship</th>\n",
       "      <th>Hipertension</th>\n",
       "      <th>Diabetes</th>\n",
       "      <th>Alcoholism</th>\n",
       "      <th>Handcap</th>\n",
       "      <th>SMS_received</th>\n",
       "    </tr>\n",
       "  </thead>\n",
       "  <tbody>\n",
       "    <tr>\n",
       "      <th>count</th>\n",
       "      <td>1.105270e+05</td>\n",
       "      <td>1.105270e+05</td>\n",
       "      <td>110527.000000</td>\n",
       "      <td>110527.000000</td>\n",
       "      <td>110527.000000</td>\n",
       "      <td>110527.000000</td>\n",
       "      <td>110527.000000</td>\n",
       "      <td>110527.000000</td>\n",
       "      <td>110527.000000</td>\n",
       "    </tr>\n",
       "    <tr>\n",
       "      <th>mean</th>\n",
       "      <td>1.474963e+14</td>\n",
       "      <td>5.675305e+06</td>\n",
       "      <td>37.088874</td>\n",
       "      <td>0.098266</td>\n",
       "      <td>0.197246</td>\n",
       "      <td>0.071865</td>\n",
       "      <td>0.030400</td>\n",
       "      <td>0.022248</td>\n",
       "      <td>0.321026</td>\n",
       "    </tr>\n",
       "    <tr>\n",
       "      <th>std</th>\n",
       "      <td>2.560949e+14</td>\n",
       "      <td>7.129575e+04</td>\n",
       "      <td>23.110205</td>\n",
       "      <td>0.297675</td>\n",
       "      <td>0.397921</td>\n",
       "      <td>0.258265</td>\n",
       "      <td>0.171686</td>\n",
       "      <td>0.161543</td>\n",
       "      <td>0.466873</td>\n",
       "    </tr>\n",
       "    <tr>\n",
       "      <th>min</th>\n",
       "      <td>3.921784e+04</td>\n",
       "      <td>5.030230e+06</td>\n",
       "      <td>-1.000000</td>\n",
       "      <td>0.000000</td>\n",
       "      <td>0.000000</td>\n",
       "      <td>0.000000</td>\n",
       "      <td>0.000000</td>\n",
       "      <td>0.000000</td>\n",
       "      <td>0.000000</td>\n",
       "    </tr>\n",
       "    <tr>\n",
       "      <th>25%</th>\n",
       "      <td>4.172614e+12</td>\n",
       "      <td>5.640286e+06</td>\n",
       "      <td>18.000000</td>\n",
       "      <td>0.000000</td>\n",
       "      <td>0.000000</td>\n",
       "      <td>0.000000</td>\n",
       "      <td>0.000000</td>\n",
       "      <td>0.000000</td>\n",
       "      <td>0.000000</td>\n",
       "    </tr>\n",
       "    <tr>\n",
       "      <th>50%</th>\n",
       "      <td>3.173184e+13</td>\n",
       "      <td>5.680573e+06</td>\n",
       "      <td>37.000000</td>\n",
       "      <td>0.000000</td>\n",
       "      <td>0.000000</td>\n",
       "      <td>0.000000</td>\n",
       "      <td>0.000000</td>\n",
       "      <td>0.000000</td>\n",
       "      <td>0.000000</td>\n",
       "    </tr>\n",
       "    <tr>\n",
       "      <th>75%</th>\n",
       "      <td>9.439172e+13</td>\n",
       "      <td>5.725524e+06</td>\n",
       "      <td>55.000000</td>\n",
       "      <td>0.000000</td>\n",
       "      <td>0.000000</td>\n",
       "      <td>0.000000</td>\n",
       "      <td>0.000000</td>\n",
       "      <td>0.000000</td>\n",
       "      <td>1.000000</td>\n",
       "    </tr>\n",
       "    <tr>\n",
       "      <th>max</th>\n",
       "      <td>9.999816e+14</td>\n",
       "      <td>5.790484e+06</td>\n",
       "      <td>115.000000</td>\n",
       "      <td>1.000000</td>\n",
       "      <td>1.000000</td>\n",
       "      <td>1.000000</td>\n",
       "      <td>1.000000</td>\n",
       "      <td>4.000000</td>\n",
       "      <td>1.000000</td>\n",
       "    </tr>\n",
       "  </tbody>\n",
       "</table>\n",
       "</div>"
      ],
      "text/plain": [
       "          PatientId  AppointmentID            Age    Scholarship  \\\n",
       "count  1.105270e+05   1.105270e+05  110527.000000  110527.000000   \n",
       "mean   1.474963e+14   5.675305e+06      37.088874       0.098266   \n",
       "std    2.560949e+14   7.129575e+04      23.110205       0.297675   \n",
       "min    3.921784e+04   5.030230e+06      -1.000000       0.000000   \n",
       "25%    4.172614e+12   5.640286e+06      18.000000       0.000000   \n",
       "50%    3.173184e+13   5.680573e+06      37.000000       0.000000   \n",
       "75%    9.439172e+13   5.725524e+06      55.000000       0.000000   \n",
       "max    9.999816e+14   5.790484e+06     115.000000       1.000000   \n",
       "\n",
       "        Hipertension       Diabetes     Alcoholism        Handcap  \\\n",
       "count  110527.000000  110527.000000  110527.000000  110527.000000   \n",
       "mean        0.197246       0.071865       0.030400       0.022248   \n",
       "std         0.397921       0.258265       0.171686       0.161543   \n",
       "min         0.000000       0.000000       0.000000       0.000000   \n",
       "25%         0.000000       0.000000       0.000000       0.000000   \n",
       "50%         0.000000       0.000000       0.000000       0.000000   \n",
       "75%         0.000000       0.000000       0.000000       0.000000   \n",
       "max         1.000000       1.000000       1.000000       4.000000   \n",
       "\n",
       "        SMS_received  \n",
       "count  110527.000000  \n",
       "mean        0.321026  \n",
       "std         0.466873  \n",
       "min         0.000000  \n",
       "25%         0.000000  \n",
       "50%         0.000000  \n",
       "75%         1.000000  \n",
       "max         1.000000  "
      ]
     },
     "execution_count": 7,
     "metadata": {},
     "output_type": "execute_result"
    }
   ],
   "source": [
    "#summary statistics of the dataset\n",
    "\n",
    "df.describe()"
   ]
  },
  {
   "cell_type": "markdown",
   "id": "266ddddb",
   "metadata": {},
   "source": [
    "The Dataset contains no duplicated values"
   ]
  },
  {
   "cell_type": "code",
   "execution_count": 8,
   "id": "665db2ee",
   "metadata": {},
   "outputs": [
    {
     "data": {
      "text/plain": [
       "array([ 62,  56,   8,  76,  23,  39,  21,  19,  30,  29,  22,  28,  54,\n",
       "        15,  50,  40,  46,   4,  13,  65,  45,  51,  32,  12,  61,  38,\n",
       "        79,  18,  63,  64,  85,  59,  55,  71,  49,  78,  31,  58,  27,\n",
       "         6,   2,  11,   7,   0,   3,   1,  69,  68,  60,  67,  36,  10,\n",
       "        35,  20,  26,  34,  33,  16,  42,   5,  47,  17,  41,  44,  37,\n",
       "        24,  66,  77,  81,  70,  53,  75,  73,  52,  74,  43,  89,  57,\n",
       "        14,   9,  48,  83,  72,  25,  80,  87,  88,  84,  82,  90,  94,\n",
       "        86,  91,  98,  92,  96,  93,  95,  97, 102, 115, 100,  99,  -1],\n",
       "      dtype=int64)"
      ]
     },
     "execution_count": 8,
     "metadata": {},
     "output_type": "execute_result"
    }
   ],
   "source": [
    "df['Age'].unique()\n",
    "\n",
    "\n",
    "#There are ages of 0, -1 in the Age column. This needs to be corrected as age cannot be a negative number and babies of age 0 (infants) are too small to make an appoinment.\n",
    "#This needs to be sorted out\n",
    "#The maximum age for this dataset happens to be 115"
   ]
  },
  {
   "cell_type": "code",
   "execution_count": 9,
   "id": "398043ca",
   "metadata": {},
   "outputs": [],
   "source": [
    "df_age_min = df.query('Age <= 0')"
   ]
  },
  {
   "cell_type": "code",
   "execution_count": 10,
   "id": "8ffa7999",
   "metadata": {},
   "outputs": [
    {
     "data": {
      "text/html": [
       "<div>\n",
       "<style scoped>\n",
       "    .dataframe tbody tr th:only-of-type {\n",
       "        vertical-align: middle;\n",
       "    }\n",
       "\n",
       "    .dataframe tbody tr th {\n",
       "        vertical-align: top;\n",
       "    }\n",
       "\n",
       "    .dataframe thead th {\n",
       "        text-align: right;\n",
       "    }\n",
       "</style>\n",
       "<table border=\"1\" class=\"dataframe\">\n",
       "  <thead>\n",
       "    <tr style=\"text-align: right;\">\n",
       "      <th></th>\n",
       "      <th>PatientId</th>\n",
       "      <th>AppointmentID</th>\n",
       "      <th>Gender</th>\n",
       "      <th>ScheduledDay</th>\n",
       "      <th>AppointmentDay</th>\n",
       "      <th>Age</th>\n",
       "      <th>Neighbourhood</th>\n",
       "      <th>Scholarship</th>\n",
       "      <th>Hipertension</th>\n",
       "      <th>Diabetes</th>\n",
       "      <th>Alcoholism</th>\n",
       "      <th>Handcap</th>\n",
       "      <th>SMS_received</th>\n",
       "      <th>No-show</th>\n",
       "    </tr>\n",
       "  </thead>\n",
       "  <tbody>\n",
       "    <tr>\n",
       "      <th>59</th>\n",
       "      <td>7.184428e+13</td>\n",
       "      <td>5638545</td>\n",
       "      <td>F</td>\n",
       "      <td>2016-04-29T08:08:43Z</td>\n",
       "      <td>2016-04-29T00:00:00Z</td>\n",
       "      <td>0</td>\n",
       "      <td>CONQUISTA</td>\n",
       "      <td>0</td>\n",
       "      <td>0</td>\n",
       "      <td>0</td>\n",
       "      <td>0</td>\n",
       "      <td>0</td>\n",
       "      <td>0</td>\n",
       "      <td>No</td>\n",
       "    </tr>\n",
       "    <tr>\n",
       "      <th>63</th>\n",
       "      <td>2.366233e+14</td>\n",
       "      <td>5628286</td>\n",
       "      <td>M</td>\n",
       "      <td>2016-04-27T10:46:12Z</td>\n",
       "      <td>2016-04-29T00:00:00Z</td>\n",
       "      <td>0</td>\n",
       "      <td>SÃO BENEDITO</td>\n",
       "      <td>0</td>\n",
       "      <td>0</td>\n",
       "      <td>0</td>\n",
       "      <td>0</td>\n",
       "      <td>0</td>\n",
       "      <td>0</td>\n",
       "      <td>No</td>\n",
       "    </tr>\n",
       "    <tr>\n",
       "      <th>64</th>\n",
       "      <td>1.885174e+14</td>\n",
       "      <td>5616082</td>\n",
       "      <td>M</td>\n",
       "      <td>2016-04-25T13:28:21Z</td>\n",
       "      <td>2016-04-29T00:00:00Z</td>\n",
       "      <td>0</td>\n",
       "      <td>ILHA DAS CAIEIRAS</td>\n",
       "      <td>0</td>\n",
       "      <td>0</td>\n",
       "      <td>0</td>\n",
       "      <td>0</td>\n",
       "      <td>0</td>\n",
       "      <td>1</td>\n",
       "      <td>No</td>\n",
       "    </tr>\n",
       "    <tr>\n",
       "      <th>65</th>\n",
       "      <td>2.718818e+14</td>\n",
       "      <td>5628321</td>\n",
       "      <td>M</td>\n",
       "      <td>2016-04-27T10:48:50Z</td>\n",
       "      <td>2016-04-29T00:00:00Z</td>\n",
       "      <td>0</td>\n",
       "      <td>CONQUISTA</td>\n",
       "      <td>0</td>\n",
       "      <td>0</td>\n",
       "      <td>0</td>\n",
       "      <td>0</td>\n",
       "      <td>0</td>\n",
       "      <td>0</td>\n",
       "      <td>No</td>\n",
       "    </tr>\n",
       "    <tr>\n",
       "      <th>67</th>\n",
       "      <td>8.647128e+13</td>\n",
       "      <td>5639264</td>\n",
       "      <td>F</td>\n",
       "      <td>2016-04-29T08:53:02Z</td>\n",
       "      <td>2016-04-29T00:00:00Z</td>\n",
       "      <td>0</td>\n",
       "      <td>NOVA PALESTINA</td>\n",
       "      <td>0</td>\n",
       "      <td>0</td>\n",
       "      <td>0</td>\n",
       "      <td>0</td>\n",
       "      <td>0</td>\n",
       "      <td>0</td>\n",
       "      <td>No</td>\n",
       "    </tr>\n",
       "  </tbody>\n",
       "</table>\n",
       "</div>"
      ],
      "text/plain": [
       "       PatientId  AppointmentID Gender          ScheduledDay  \\\n",
       "59  7.184428e+13        5638545      F  2016-04-29T08:08:43Z   \n",
       "63  2.366233e+14        5628286      M  2016-04-27T10:46:12Z   \n",
       "64  1.885174e+14        5616082      M  2016-04-25T13:28:21Z   \n",
       "65  2.718818e+14        5628321      M  2016-04-27T10:48:50Z   \n",
       "67  8.647128e+13        5639264      F  2016-04-29T08:53:02Z   \n",
       "\n",
       "          AppointmentDay  Age      Neighbourhood  Scholarship  Hipertension  \\\n",
       "59  2016-04-29T00:00:00Z    0          CONQUISTA            0             0   \n",
       "63  2016-04-29T00:00:00Z    0       SÃO BENEDITO            0             0   \n",
       "64  2016-04-29T00:00:00Z    0  ILHA DAS CAIEIRAS            0             0   \n",
       "65  2016-04-29T00:00:00Z    0          CONQUISTA            0             0   \n",
       "67  2016-04-29T00:00:00Z    0     NOVA PALESTINA            0             0   \n",
       "\n",
       "    Diabetes  Alcoholism  Handcap  SMS_received No-show  \n",
       "59         0           0        0             0      No  \n",
       "63         0           0        0             0      No  \n",
       "64         0           0        0             1      No  \n",
       "65         0           0        0             0      No  \n",
       "67         0           0        0             0      No  "
      ]
     },
     "execution_count": 10,
     "metadata": {},
     "output_type": "execute_result"
    }
   ],
   "source": [
    "df_age_min.head()"
   ]
  },
  {
   "cell_type": "code",
   "execution_count": 11,
   "id": "40bd9500",
   "metadata": {},
   "outputs": [
    {
     "data": {
      "text/plain": [
       "(3540, 14)"
      ]
     },
     "execution_count": 11,
     "metadata": {},
     "output_type": "execute_result"
    }
   ],
   "source": [
    "df_age_min.shape\n",
    "\n",
    "#There are 3540 rows with a negative age or an age equal to zero. They all need to be removed"
   ]
  },
  {
   "cell_type": "code",
   "execution_count": 12,
   "id": "42c4f449",
   "metadata": {},
   "outputs": [],
   "source": [
    "df = df.drop(df[df['Age'] <= 0].index)"
   ]
  },
  {
   "cell_type": "code",
   "execution_count": 13,
   "id": "e9e39aaf",
   "metadata": {},
   "outputs": [
    {
     "data": {
      "text/plain": [
       "(106987, 14)"
      ]
     },
     "execution_count": 13,
     "metadata": {},
     "output_type": "execute_result"
    }
   ],
   "source": [
    "df.shape"
   ]
  },
  {
   "cell_type": "code",
   "execution_count": 14,
   "id": "dfa1d38e",
   "metadata": {},
   "outputs": [],
   "source": [
    "df_min_age = df.query('Age <= 0')"
   ]
  },
  {
   "cell_type": "code",
   "execution_count": 15,
   "id": "ff16d457",
   "metadata": {},
   "outputs": [
    {
     "data": {
      "text/plain": [
       "(0, 14)"
      ]
     },
     "execution_count": 15,
     "metadata": {},
     "output_type": "execute_result"
    }
   ],
   "source": [
    "df_min_age.shape\n",
    "\n",
    "#The 3540 rows with negative ages or ages equal to zero have been succesfully dropped"
   ]
  },
  {
   "cell_type": "code",
   "execution_count": 16,
   "id": "69c3e3ac",
   "metadata": {},
   "outputs": [
    {
     "data": {
      "image/png": "[encoded data removed]",
      "text/plain": [
       "<Figure size 432x288 with 1 Axes>"
      ]
     },
     "metadata": {},
     "output_type": "display_data"
    }
   ],
   "source": [
    "df['Age'].plot(kind = 'box');\n",
    "\n",
    "#from the boxplot, it is evident the age distribution has an outlier\n",
    "#the minimum value is 1\n",
    "#the median is a bit closer to 40"
   ]
  },
  {
   "cell_type": "markdown",
   "id": "c307d25f",
   "metadata": {},
   "source": [
    "The PatientId column type is float, it needs to be converted to int as Patient Id number cannot be a floating point number"
   ]
  },
  {
   "cell_type": "code",
   "execution_count": 17,
   "id": "5901e8df",
   "metadata": {},
   "outputs": [],
   "source": [
    "# changing patientId from float to int\n",
    "df['PatientId'] = (df['PatientId'].astype('int64'))"
   ]
  },
  {
   "cell_type": "code",
   "execution_count": 18,
   "id": "ae8bcc00",
   "metadata": {},
   "outputs": [
    {
     "name": "stdout",
     "output_type": "stream",
     "text": [
      "<class 'pandas.core.frame.DataFrame'>\n",
      "Int64Index: 106987 entries, 0 to 110526\n",
      "Data columns (total 14 columns):\n",
      " #   Column          Non-Null Count   Dtype \n",
      "---  ------          --------------   ----- \n",
      " 0   PatientId       106987 non-null  int64 \n",
      " 1   AppointmentID   106987 non-null  int64 \n",
      " 2   Gender          106987 non-null  object\n",
      " 3   ScheduledDay    106987 non-null  object\n",
      " 4   AppointmentDay  106987 non-null  object\n",
      " 5   Age             106987 non-null  int64 \n",
      " 6   Neighbourhood   106987 non-null  object\n",
      " 7   Scholarship     106987 non-null  int64 \n",
      " 8   Hipertension    106987 non-null  int64 \n",
      " 9   Diabetes        106987 non-null  int64 \n",
      " 10  Alcoholism      106987 non-null  int64 \n",
      " 11  Handcap         106987 non-null  int64 \n",
      " 12  SMS_received    106987 non-null  int64 \n",
      " 13  No-show         106987 non-null  object\n",
      "dtypes: int64(9), object(5)\n",
      "memory usage: 12.2+ MB\n"
     ]
    }
   ],
   "source": [
    "df.info()"
   ]
  },
  {
   "cell_type": "code",
   "execution_count": 19,
   "id": "8a599675",
   "metadata": {},
   "outputs": [
    {
     "data": {
      "text/plain": [
       "60270"
      ]
     },
     "execution_count": 19,
     "metadata": {},
     "output_type": "execute_result"
    }
   ],
   "source": [
    "# How many unique patients appear in this Dataset?\n",
    "\n",
    "df['PatientId'].nunique()\n",
    "\n",
    "#There are 60,270 unique Patients in this Dataset"
   ]
  },
  {
   "cell_type": "code",
   "execution_count": 20,
   "id": "58497d3b",
   "metadata": {},
   "outputs": [
    {
     "data": {
      "text/plain": [
       "81"
      ]
     },
     "execution_count": 20,
     "metadata": {},
     "output_type": "execute_result"
    }
   ],
   "source": [
    "#How many neighbourhoods are represented in this dataset\n",
    "\n",
    "\n",
    "df.Neighbourhood.nunique()\n",
    "\n",
    "#There are 81 different neighbourhoods represented in this dataset"
   ]
  },
  {
   "cell_type": "code",
   "execution_count": 21,
   "id": "be9fcd36",
   "metadata": {},
   "outputs": [
    {
     "data": {
      "text/plain": [
       "JARDIM CAMBURI                 7586\n",
       "MARIA ORTIZ                    5563\n",
       "RESISTÊNCIA                    4235\n",
       "JARDIM DA PENHA                3851\n",
       "ITARARÉ                        3412\n",
       "                               ... \n",
       "ILHA DO BOI                      35\n",
       "ILHA DO FRADE                    10\n",
       "AEROPORTO                         8\n",
       "ILHAS OCEÂNICAS DE TRINDADE       2\n",
       "PARQUE INDUSTRIAL                 1\n",
       "Name: Neighbourhood, Length: 81, dtype: int64"
      ]
     },
     "execution_count": 21,
     "metadata": {},
     "output_type": "execute_result"
    }
   ],
   "source": [
    "df.Neighbourhood.value_counts()\n",
    "\n",
    "#Of the 81 different Neighbourhoods, Jardim Camburi has the highest number of appointees while Parque Industrial has the least number of appointees\n",
    "\n",
    "#This may have something to do with the proximity of the Neighbourhood to the Clinic, Clinic Quality or just Personal Preference"
   ]
  },
  {
   "cell_type": "markdown",
   "id": "887c12ba",
   "metadata": {},
   "source": [
    "DATA CLEANING"
   ]
  },
  {
   "cell_type": "code",
   "execution_count": 22,
   "id": "19e8bd76",
   "metadata": {},
   "outputs": [
    {
     "data": {
      "text/plain": [
       "(106987, 13)"
      ]
     },
     "execution_count": 22,
     "metadata": {},
     "output_type": "execute_result"
    }
   ],
   "source": [
    "#The Appointment Id column doesn't seem to be relevant to this Analysis. We can go ahead to drop it\n",
    "\n",
    "df.drop(['AppointmentID'], axis = 1, inplace = True)\n",
    "\n",
    "df.shape"
   ]
  },
  {
   "cell_type": "code",
   "execution_count": 23,
   "id": "0d6ce91c",
   "metadata": {},
   "outputs": [
    {
     "data": {
      "text/html": [
       "<div>\n",
       "<style scoped>\n",
       "    .dataframe tbody tr th:only-of-type {\n",
       "        vertical-align: middle;\n",
       "    }\n",
       "\n",
       "    .dataframe tbody tr th {\n",
       "        vertical-align: top;\n",
       "    }\n",
       "\n",
       "    .dataframe thead th {\n",
       "        text-align: right;\n",
       "    }\n",
       "</style>\n",
       "<table border=\"1\" class=\"dataframe\">\n",
       "  <thead>\n",
       "    <tr style=\"text-align: right;\">\n",
       "      <th></th>\n",
       "      <th>PatientId</th>\n",
       "      <th>Gender</th>\n",
       "      <th>ScheduledDay</th>\n",
       "      <th>AppointmentDay</th>\n",
       "      <th>Age</th>\n",
       "      <th>Neighbourhood</th>\n",
       "      <th>Scholarship</th>\n",
       "      <th>Hipertension</th>\n",
       "      <th>Diabetes</th>\n",
       "      <th>Alcoholism</th>\n",
       "      <th>Handcap</th>\n",
       "      <th>SMS_received</th>\n",
       "      <th>No-show</th>\n",
       "    </tr>\n",
       "  </thead>\n",
       "  <tbody>\n",
       "    <tr>\n",
       "      <th>0</th>\n",
       "      <td>29872499824296</td>\n",
       "      <td>F</td>\n",
       "      <td>2016-04-29T18:38:08Z</td>\n",
       "      <td>2016-04-29T00:00:00Z</td>\n",
       "      <td>62</td>\n",
       "      <td>JARDIM DA PENHA</td>\n",
       "      <td>0</td>\n",
       "      <td>1</td>\n",
       "      <td>0</td>\n",
       "      <td>0</td>\n",
       "      <td>0</td>\n",
       "      <td>0</td>\n",
       "      <td>No</td>\n",
       "    </tr>\n",
       "    <tr>\n",
       "      <th>1</th>\n",
       "      <td>558997776694438</td>\n",
       "      <td>M</td>\n",
       "      <td>2016-04-29T16:08:27Z</td>\n",
       "      <td>2016-04-29T00:00:00Z</td>\n",
       "      <td>56</td>\n",
       "      <td>JARDIM DA PENHA</td>\n",
       "      <td>0</td>\n",
       "      <td>0</td>\n",
       "      <td>0</td>\n",
       "      <td>0</td>\n",
       "      <td>0</td>\n",
       "      <td>0</td>\n",
       "      <td>No</td>\n",
       "    </tr>\n",
       "    <tr>\n",
       "      <th>2</th>\n",
       "      <td>4262962299951</td>\n",
       "      <td>F</td>\n",
       "      <td>2016-04-29T16:19:04Z</td>\n",
       "      <td>2016-04-29T00:00:00Z</td>\n",
       "      <td>62</td>\n",
       "      <td>MATA DA PRAIA</td>\n",
       "      <td>0</td>\n",
       "      <td>0</td>\n",
       "      <td>0</td>\n",
       "      <td>0</td>\n",
       "      <td>0</td>\n",
       "      <td>0</td>\n",
       "      <td>No</td>\n",
       "    </tr>\n",
       "    <tr>\n",
       "      <th>3</th>\n",
       "      <td>867951213174</td>\n",
       "      <td>F</td>\n",
       "      <td>2016-04-29T17:29:31Z</td>\n",
       "      <td>2016-04-29T00:00:00Z</td>\n",
       "      <td>8</td>\n",
       "      <td>PONTAL DE CAMBURI</td>\n",
       "      <td>0</td>\n",
       "      <td>0</td>\n",
       "      <td>0</td>\n",
       "      <td>0</td>\n",
       "      <td>0</td>\n",
       "      <td>0</td>\n",
       "      <td>No</td>\n",
       "    </tr>\n",
       "    <tr>\n",
       "      <th>4</th>\n",
       "      <td>8841186448183</td>\n",
       "      <td>F</td>\n",
       "      <td>2016-04-29T16:07:23Z</td>\n",
       "      <td>2016-04-29T00:00:00Z</td>\n",
       "      <td>56</td>\n",
       "      <td>JARDIM DA PENHA</td>\n",
       "      <td>0</td>\n",
       "      <td>1</td>\n",
       "      <td>1</td>\n",
       "      <td>0</td>\n",
       "      <td>0</td>\n",
       "      <td>0</td>\n",
       "      <td>No</td>\n",
       "    </tr>\n",
       "  </tbody>\n",
       "</table>\n",
       "</div>"
      ],
      "text/plain": [
       "         PatientId Gender          ScheduledDay        AppointmentDay  Age  \\\n",
       "0   29872499824296      F  2016-04-29T18:38:08Z  2016-04-29T00:00:00Z   62   \n",
       "1  558997776694438      M  2016-04-29T16:08:27Z  2016-04-29T00:00:00Z   56   \n",
       "2    4262962299951      F  2016-04-29T16:19:04Z  2016-04-29T00:00:00Z   62   \n",
       "3     867951213174      F  2016-04-29T17:29:31Z  2016-04-29T00:00:00Z    8   \n",
       "4    8841186448183      F  2016-04-29T16:07:23Z  2016-04-29T00:00:00Z   56   \n",
       "\n",
       "       Neighbourhood  Scholarship  Hipertension  Diabetes  Alcoholism  \\\n",
       "0    JARDIM DA PENHA            0             1         0           0   \n",
       "1    JARDIM DA PENHA            0             0         0           0   \n",
       "2      MATA DA PRAIA            0             0         0           0   \n",
       "3  PONTAL DE CAMBURI            0             0         0           0   \n",
       "4    JARDIM DA PENHA            0             1         1           0   \n",
       "\n",
       "   Handcap  SMS_received No-show  \n",
       "0        0             0      No  \n",
       "1        0             0      No  \n",
       "2        0             0      No  \n",
       "3        0             0      No  \n",
       "4        0             0      No  "
      ]
     },
     "execution_count": 23,
     "metadata": {},
     "output_type": "execute_result"
    }
   ],
   "source": [
    "df.head()\n",
    "\n",
    "#The Appointment ID column has been successfully dropped"
   ]
  },
  {
   "cell_type": "code",
   "execution_count": 24,
   "id": "97052fa3",
   "metadata": {},
   "outputs": [],
   "source": [
    "#some column names have been misspelt,or have a wrong format. We need to change them\n",
    "\n",
    "df.rename(columns = {'Hipertension' : 'Hypertension', 'Handcap' : 'Handicap', 'No-show' : 'No_show'}, inplace = True )"
   ]
  },
  {
   "cell_type": "code",
   "execution_count": 25,
   "id": "503dd970",
   "metadata": {},
   "outputs": [
    {
     "data": {
      "text/html": [
       "<div>\n",
       "<style scoped>\n",
       "    .dataframe tbody tr th:only-of-type {\n",
       "        vertical-align: middle;\n",
       "    }\n",
       "\n",
       "    .dataframe tbody tr th {\n",
       "        vertical-align: top;\n",
       "    }\n",
       "\n",
       "    .dataframe thead th {\n",
       "        text-align: right;\n",
       "    }\n",
       "</style>\n",
       "<table border=\"1\" class=\"dataframe\">\n",
       "  <thead>\n",
       "    <tr style=\"text-align: right;\">\n",
       "      <th></th>\n",
       "      <th>PatientId</th>\n",
       "      <th>Gender</th>\n",
       "      <th>ScheduledDay</th>\n",
       "      <th>AppointmentDay</th>\n",
       "      <th>Age</th>\n",
       "      <th>Neighbourhood</th>\n",
       "      <th>Scholarship</th>\n",
       "      <th>Hypertension</th>\n",
       "      <th>Diabetes</th>\n",
       "      <th>Alcoholism</th>\n",
       "      <th>Handicap</th>\n",
       "      <th>SMS_received</th>\n",
       "      <th>No_show</th>\n",
       "    </tr>\n",
       "  </thead>\n",
       "  <tbody>\n",
       "    <tr>\n",
       "      <th>0</th>\n",
       "      <td>29872499824296</td>\n",
       "      <td>F</td>\n",
       "      <td>2016-04-29T18:38:08Z</td>\n",
       "      <td>2016-04-29T00:00:00Z</td>\n",
       "      <td>62</td>\n",
       "      <td>JARDIM DA PENHA</td>\n",
       "      <td>0</td>\n",
       "      <td>1</td>\n",
       "      <td>0</td>\n",
       "      <td>0</td>\n",
       "      <td>0</td>\n",
       "      <td>0</td>\n",
       "      <td>No</td>\n",
       "    </tr>\n",
       "    <tr>\n",
       "      <th>1</th>\n",
       "      <td>558997776694438</td>\n",
       "      <td>M</td>\n",
       "      <td>2016-04-29T16:08:27Z</td>\n",
       "      <td>2016-04-29T00:00:00Z</td>\n",
       "      <td>56</td>\n",
       "      <td>JARDIM DA PENHA</td>\n",
       "      <td>0</td>\n",
       "      <td>0</td>\n",
       "      <td>0</td>\n",
       "      <td>0</td>\n",
       "      <td>0</td>\n",
       "      <td>0</td>\n",
       "      <td>No</td>\n",
       "    </tr>\n",
       "    <tr>\n",
       "      <th>2</th>\n",
       "      <td>4262962299951</td>\n",
       "      <td>F</td>\n",
       "      <td>2016-04-29T16:19:04Z</td>\n",
       "      <td>2016-04-29T00:00:00Z</td>\n",
       "      <td>62</td>\n",
       "      <td>MATA DA PRAIA</td>\n",
       "      <td>0</td>\n",
       "      <td>0</td>\n",
       "      <td>0</td>\n",
       "      <td>0</td>\n",
       "      <td>0</td>\n",
       "      <td>0</td>\n",
       "      <td>No</td>\n",
       "    </tr>\n",
       "    <tr>\n",
       "      <th>3</th>\n",
       "      <td>867951213174</td>\n",
       "      <td>F</td>\n",
       "      <td>2016-04-29T17:29:31Z</td>\n",
       "      <td>2016-04-29T00:00:00Z</td>\n",
       "      <td>8</td>\n",
       "      <td>PONTAL DE CAMBURI</td>\n",
       "      <td>0</td>\n",
       "      <td>0</td>\n",
       "      <td>0</td>\n",
       "      <td>0</td>\n",
       "      <td>0</td>\n",
       "      <td>0</td>\n",
       "      <td>No</td>\n",
       "    </tr>\n",
       "    <tr>\n",
       "      <th>4</th>\n",
       "      <td>8841186448183</td>\n",
       "      <td>F</td>\n",
       "      <td>2016-04-29T16:07:23Z</td>\n",
       "      <td>2016-04-29T00:00:00Z</td>\n",
       "      <td>56</td>\n",
       "      <td>JARDIM DA PENHA</td>\n",
       "      <td>0</td>\n",
       "      <td>1</td>\n",
       "      <td>1</td>\n",
       "      <td>0</td>\n",
       "      <td>0</td>\n",
       "      <td>0</td>\n",
       "      <td>No</td>\n",
       "    </tr>\n",
       "  </tbody>\n",
       "</table>\n",
       "</div>"
      ],
      "text/plain": [
       "         PatientId Gender          ScheduledDay        AppointmentDay  Age  \\\n",
       "0   29872499824296      F  2016-04-29T18:38:08Z  2016-04-29T00:00:00Z   62   \n",
       "1  558997776694438      M  2016-04-29T16:08:27Z  2016-04-29T00:00:00Z   56   \n",
       "2    4262962299951      F  2016-04-29T16:19:04Z  2016-04-29T00:00:00Z   62   \n",
       "3     867951213174      F  2016-04-29T17:29:31Z  2016-04-29T00:00:00Z    8   \n",
       "4    8841186448183      F  2016-04-29T16:07:23Z  2016-04-29T00:00:00Z   56   \n",
       "\n",
       "       Neighbourhood  Scholarship  Hypertension  Diabetes  Alcoholism  \\\n",
       "0    JARDIM DA PENHA            0             1         0           0   \n",
       "1    JARDIM DA PENHA            0             0         0           0   \n",
       "2      MATA DA PRAIA            0             0         0           0   \n",
       "3  PONTAL DE CAMBURI            0             0         0           0   \n",
       "4    JARDIM DA PENHA            0             1         1           0   \n",
       "\n",
       "   Handicap  SMS_received No_show  \n",
       "0         0             0      No  \n",
       "1         0             0      No  \n",
       "2         0             0      No  \n",
       "3         0             0      No  \n",
       "4         0             0      No  "
      ]
     },
     "execution_count": 25,
     "metadata": {},
     "output_type": "execute_result"
    }
   ],
   "source": [
    "df.head()\n",
    "\n",
    "\n",
    "#The column names have been successfully renamed and reformatted"
   ]
  },
  {
   "cell_type": "code",
   "execution_count": 26,
   "id": "8bb5e228",
   "metadata": {},
   "outputs": [
    {
     "data": {
      "text/plain": [
       "609"
      ]
     },
     "execution_count": 26,
     "metadata": {},
     "output_type": "execute_result"
    }
   ],
   "source": [
    "#we need to check if there are still duplicates in the dataset especially after dropping a column\n",
    "\n",
    "\n",
    "sum(df.duplicated())\n",
    "\n",
    "\n",
    "# There happens to be an additional 609 duplicated values, we need to drop them"
   ]
  },
  {
   "cell_type": "code",
   "execution_count": 27,
   "id": "af16d8e4",
   "metadata": {},
   "outputs": [
    {
     "data": {
      "text/html": [
       "<div>\n",
       "<style scoped>\n",
       "    .dataframe tbody tr th:only-of-type {\n",
       "        vertical-align: middle;\n",
       "    }\n",
       "\n",
       "    .dataframe tbody tr th {\n",
       "        vertical-align: top;\n",
       "    }\n",
       "\n",
       "    .dataframe thead th {\n",
       "        text-align: right;\n",
       "    }\n",
       "</style>\n",
       "<table border=\"1\" class=\"dataframe\">\n",
       "  <thead>\n",
       "    <tr style=\"text-align: right;\">\n",
       "      <th></th>\n",
       "      <th>PatientId</th>\n",
       "      <th>Gender</th>\n",
       "      <th>ScheduledDay</th>\n",
       "      <th>AppointmentDay</th>\n",
       "      <th>Age</th>\n",
       "      <th>Neighbourhood</th>\n",
       "      <th>Scholarship</th>\n",
       "      <th>Hypertension</th>\n",
       "      <th>Diabetes</th>\n",
       "      <th>Alcoholism</th>\n",
       "      <th>Handicap</th>\n",
       "      <th>SMS_received</th>\n",
       "      <th>No_show</th>\n",
       "    </tr>\n",
       "  </thead>\n",
       "  <tbody>\n",
       "    <tr>\n",
       "      <th>154</th>\n",
       "      <td>19252634865</td>\n",
       "      <td>F</td>\n",
       "      <td>2016-04-28T16:38:34Z</td>\n",
       "      <td>2016-04-29T00:00:00Z</td>\n",
       "      <td>30</td>\n",
       "      <td>ITARARÉ</td>\n",
       "      <td>0</td>\n",
       "      <td>0</td>\n",
       "      <td>0</td>\n",
       "      <td>0</td>\n",
       "      <td>0</td>\n",
       "      <td>0</td>\n",
       "      <td>No</td>\n",
       "    </tr>\n",
       "    <tr>\n",
       "      <th>369</th>\n",
       "      <td>434159987798224</td>\n",
       "      <td>F</td>\n",
       "      <td>2016-04-29T09:43:15Z</td>\n",
       "      <td>2016-04-29T00:00:00Z</td>\n",
       "      <td>39</td>\n",
       "      <td>PRAIA DO CANTO</td>\n",
       "      <td>0</td>\n",
       "      <td>0</td>\n",
       "      <td>0</td>\n",
       "      <td>0</td>\n",
       "      <td>0</td>\n",
       "      <td>0</td>\n",
       "      <td>No</td>\n",
       "    </tr>\n",
       "    <tr>\n",
       "      <th>371</th>\n",
       "      <td>4497415116</td>\n",
       "      <td>F</td>\n",
       "      <td>2016-04-19T11:16:27Z</td>\n",
       "      <td>2016-04-29T00:00:00Z</td>\n",
       "      <td>11</td>\n",
       "      <td>BELA VISTA</td>\n",
       "      <td>0</td>\n",
       "      <td>0</td>\n",
       "      <td>0</td>\n",
       "      <td>0</td>\n",
       "      <td>0</td>\n",
       "      <td>0</td>\n",
       "      <td>No</td>\n",
       "    </tr>\n",
       "    <tr>\n",
       "      <th>466</th>\n",
       "      <td>5161239132968</td>\n",
       "      <td>F</td>\n",
       "      <td>2016-04-27T13:16:02Z</td>\n",
       "      <td>2016-04-29T00:00:00Z</td>\n",
       "      <td>49</td>\n",
       "      <td>CONSOLAÇÃO</td>\n",
       "      <td>0</td>\n",
       "      <td>0</td>\n",
       "      <td>0</td>\n",
       "      <td>0</td>\n",
       "      <td>0</td>\n",
       "      <td>0</td>\n",
       "      <td>No</td>\n",
       "    </tr>\n",
       "    <tr>\n",
       "      <th>554</th>\n",
       "      <td>4916355941566</td>\n",
       "      <td>M</td>\n",
       "      <td>2016-03-29T12:40:26Z</td>\n",
       "      <td>2016-04-29T00:00:00Z</td>\n",
       "      <td>40</td>\n",
       "      <td>CENTRO</td>\n",
       "      <td>0</td>\n",
       "      <td>0</td>\n",
       "      <td>0</td>\n",
       "      <td>0</td>\n",
       "      <td>0</td>\n",
       "      <td>0</td>\n",
       "      <td>Yes</td>\n",
       "    </tr>\n",
       "  </tbody>\n",
       "</table>\n",
       "</div>"
      ],
      "text/plain": [
       "           PatientId Gender          ScheduledDay        AppointmentDay  Age  \\\n",
       "154      19252634865      F  2016-04-28T16:38:34Z  2016-04-29T00:00:00Z   30   \n",
       "369  434159987798224      F  2016-04-29T09:43:15Z  2016-04-29T00:00:00Z   39   \n",
       "371       4497415116      F  2016-04-19T11:16:27Z  2016-04-29T00:00:00Z   11   \n",
       "466    5161239132968      F  2016-04-27T13:16:02Z  2016-04-29T00:00:00Z   49   \n",
       "554    4916355941566      M  2016-03-29T12:40:26Z  2016-04-29T00:00:00Z   40   \n",
       "\n",
       "      Neighbourhood  Scholarship  Hypertension  Diabetes  Alcoholism  \\\n",
       "154         ITARARÉ            0             0         0           0   \n",
       "369  PRAIA DO CANTO            0             0         0           0   \n",
       "371      BELA VISTA            0             0         0           0   \n",
       "466      CONSOLAÇÃO            0             0         0           0   \n",
       "554          CENTRO            0             0         0           0   \n",
       "\n",
       "     Handicap  SMS_received No_show  \n",
       "154         0             0      No  \n",
       "369         0             0      No  \n",
       "371         0             0      No  \n",
       "466         0             0      No  \n",
       "554         0             0     Yes  "
      ]
     },
     "execution_count": 27,
     "metadata": {},
     "output_type": "execute_result"
    }
   ],
   "source": [
    "duplicates = df[df.duplicated()]\n",
    "\n",
    "duplicates.head()"
   ]
  },
  {
   "cell_type": "code",
   "execution_count": 28,
   "id": "19c373a9",
   "metadata": {},
   "outputs": [],
   "source": [
    "#dropping duplicated values\n",
    "\n",
    "df.drop_duplicates(inplace = True)"
   ]
  },
  {
   "cell_type": "code",
   "execution_count": 29,
   "id": "3d75ee5c",
   "metadata": {},
   "outputs": [
    {
     "data": {
      "text/plain": [
       "0"
      ]
     },
     "execution_count": 29,
     "metadata": {},
     "output_type": "execute_result"
    }
   ],
   "source": [
    "df.duplicated().sum()\n",
    "\n",
    "#The duplicated values have been successfully dropped"
   ]
  },
  {
   "cell_type": "code",
   "execution_count": 30,
   "id": "dd27a96f",
   "metadata": {},
   "outputs": [
    {
     "data": {
      "text/plain": [
       "(106378, 13)"
      ]
     },
     "execution_count": 30,
     "metadata": {},
     "output_type": "execute_result"
    }
   ],
   "source": [
    "df.shape"
   ]
  },
  {
   "cell_type": "markdown",
   "id": "40cdc532",
   "metadata": {},
   "source": [
    "The Schedule day and Appointment day needs to be converted to date time to enable us perform better analysis on the dataset"
   ]
  },
  {
   "cell_type": "code",
   "execution_count": 31,
   "id": "c2845e87",
   "metadata": {},
   "outputs": [],
   "source": [
    "#converting Schedule day to date time\n",
    "\n",
    "df.ScheduledDay = pd.to_datetime(df.ScheduledDay)"
   ]
  },
  {
   "cell_type": "code",
   "execution_count": 32,
   "id": "39187426",
   "metadata": {},
   "outputs": [],
   "source": [
    "df.AppointmentDay = pd.to_datetime(df.AppointmentDay)"
   ]
  },
  {
   "cell_type": "code",
   "execution_count": 33,
   "id": "23c46b1a",
   "metadata": {},
   "outputs": [
    {
     "name": "stdout",
     "output_type": "stream",
     "text": [
      "<class 'pandas.core.frame.DataFrame'>\n",
      "Int64Index: 106378 entries, 0 to 110526\n",
      "Data columns (total 13 columns):\n",
      " #   Column          Non-Null Count   Dtype              \n",
      "---  ------          --------------   -----              \n",
      " 0   PatientId       106378 non-null  int64              \n",
      " 1   Gender          106378 non-null  object             \n",
      " 2   ScheduledDay    106378 non-null  datetime64[ns, UTC]\n",
      " 3   AppointmentDay  106378 non-null  datetime64[ns, UTC]\n",
      " 4   Age             106378 non-null  int64              \n",
      " 5   Neighbourhood   106378 non-null  object             \n",
      " 6   Scholarship     106378 non-null  int64              \n",
      " 7   Hypertension    106378 non-null  int64              \n",
      " 8   Diabetes        106378 non-null  int64              \n",
      " 9   Alcoholism      106378 non-null  int64              \n",
      " 10  Handicap        106378 non-null  int64              \n",
      " 11  SMS_received    106378 non-null  int64              \n",
      " 12  No_show         106378 non-null  object             \n",
      "dtypes: datetime64[ns, UTC](2), int64(8), object(3)\n",
      "memory usage: 11.4+ MB\n"
     ]
    }
   ],
   "source": [
    "df.info()\n",
    "\n",
    "\n",
    "#the column types have successfully been changed"
   ]
  },
  {
   "cell_type": "code",
   "execution_count": 34,
   "id": "7b2f79db",
   "metadata": {
    "scrolled": true
   },
   "outputs": [
    {
     "data": {
      "text/plain": [
       "0    104160\n",
       "1      2022\n",
       "2       182\n",
       "3        11\n",
       "4         3\n",
       "Name: Handicap, dtype: int64"
      ]
     },
     "execution_count": 34,
     "metadata": {},
     "output_type": "execute_result"
    }
   ],
   "source": [
    "df['Handicap'].value_counts()\n",
    "\n",
    "\n",
    "#More of the appointees are without a disability"
   ]
  },
  {
   "cell_type": "code",
   "execution_count": 35,
   "id": "15be4a2e",
   "metadata": {},
   "outputs": [
    {
     "data": {
      "text/plain": [
       "0    95628\n",
       "1    10750\n",
       "Name: Scholarship, dtype: int64"
      ]
     },
     "execution_count": 35,
     "metadata": {},
     "output_type": "execute_result"
    }
   ],
   "source": [
    "df['Scholarship'].value_counts()"
   ]
  },
  {
   "cell_type": "code",
   "execution_count": 36,
   "id": "89e14932",
   "metadata": {},
   "outputs": [
    {
     "data": {
      "text/plain": [
       "38.0"
      ]
     },
     "execution_count": 36,
     "metadata": {},
     "output_type": "execute_result"
    }
   ],
   "source": [
    "df.Age.median()\n",
    "\n",
    "#the median age is 38 which confirms what was gotten from the boxplot above where the median age was closer to 40"
   ]
  },
  {
   "cell_type": "code",
   "execution_count": 37,
   "id": "58590e09",
   "metadata": {},
   "outputs": [],
   "source": [
    "young_age = df.query('Age < 38')"
   ]
  },
  {
   "cell_type": "code",
   "execution_count": 38,
   "id": "26e77f11",
   "metadata": {},
   "outputs": [],
   "source": [
    "old_age = df.query('Age >= 38')"
   ]
  },
  {
   "cell_type": "code",
   "execution_count": 39,
   "id": "af4bddf0",
   "metadata": {},
   "outputs": [
    {
     "data": {
      "text/plain": [
       "52254"
      ]
     },
     "execution_count": 39,
     "metadata": {},
     "output_type": "execute_result"
    }
   ],
   "source": [
    "young_age.value_counts().sum()"
   ]
  },
  {
   "cell_type": "code",
   "execution_count": 40,
   "id": "f5c181e3",
   "metadata": {},
   "outputs": [
    {
     "data": {
      "text/html": [
       "<div>\n",
       "<style scoped>\n",
       "    .dataframe tbody tr th:only-of-type {\n",
       "        vertical-align: middle;\n",
       "    }\n",
       "\n",
       "    .dataframe tbody tr th {\n",
       "        vertical-align: top;\n",
       "    }\n",
       "\n",
       "    .dataframe thead th {\n",
       "        text-align: right;\n",
       "    }\n",
       "</style>\n",
       "<table border=\"1\" class=\"dataframe\">\n",
       "  <thead>\n",
       "    <tr style=\"text-align: right;\">\n",
       "      <th></th>\n",
       "      <th>PatientId</th>\n",
       "      <th>Gender</th>\n",
       "      <th>ScheduledDay</th>\n",
       "      <th>AppointmentDay</th>\n",
       "      <th>Age</th>\n",
       "      <th>Neighbourhood</th>\n",
       "      <th>Scholarship</th>\n",
       "      <th>Hypertension</th>\n",
       "      <th>Diabetes</th>\n",
       "      <th>Alcoholism</th>\n",
       "      <th>Handicap</th>\n",
       "      <th>SMS_received</th>\n",
       "      <th>No_show</th>\n",
       "    </tr>\n",
       "  </thead>\n",
       "  <tbody>\n",
       "    <tr>\n",
       "      <th>3</th>\n",
       "      <td>867951213174</td>\n",
       "      <td>F</td>\n",
       "      <td>2016-04-29 17:29:31+00:00</td>\n",
       "      <td>2016-04-29 00:00:00+00:00</td>\n",
       "      <td>8</td>\n",
       "      <td>PONTAL DE CAMBURI</td>\n",
       "      <td>0</td>\n",
       "      <td>0</td>\n",
       "      <td>0</td>\n",
       "      <td>0</td>\n",
       "      <td>0</td>\n",
       "      <td>0</td>\n",
       "      <td>No</td>\n",
       "    </tr>\n",
       "    <tr>\n",
       "      <th>6</th>\n",
       "      <td>733688164476661</td>\n",
       "      <td>F</td>\n",
       "      <td>2016-04-27 15:05:12+00:00</td>\n",
       "      <td>2016-04-29 00:00:00+00:00</td>\n",
       "      <td>23</td>\n",
       "      <td>GOIABEIRAS</td>\n",
       "      <td>0</td>\n",
       "      <td>0</td>\n",
       "      <td>0</td>\n",
       "      <td>0</td>\n",
       "      <td>0</td>\n",
       "      <td>0</td>\n",
       "      <td>Yes</td>\n",
       "    </tr>\n",
       "    <tr>\n",
       "      <th>8</th>\n",
       "      <td>56394729949972</td>\n",
       "      <td>F</td>\n",
       "      <td>2016-04-29 08:02:16+00:00</td>\n",
       "      <td>2016-04-29 00:00:00+00:00</td>\n",
       "      <td>21</td>\n",
       "      <td>ANDORINHAS</td>\n",
       "      <td>0</td>\n",
       "      <td>0</td>\n",
       "      <td>0</td>\n",
       "      <td>0</td>\n",
       "      <td>0</td>\n",
       "      <td>0</td>\n",
       "      <td>No</td>\n",
       "    </tr>\n",
       "    <tr>\n",
       "      <th>9</th>\n",
       "      <td>78124564369297</td>\n",
       "      <td>F</td>\n",
       "      <td>2016-04-27 12:48:25+00:00</td>\n",
       "      <td>2016-04-29 00:00:00+00:00</td>\n",
       "      <td>19</td>\n",
       "      <td>CONQUISTA</td>\n",
       "      <td>0</td>\n",
       "      <td>0</td>\n",
       "      <td>0</td>\n",
       "      <td>0</td>\n",
       "      <td>0</td>\n",
       "      <td>0</td>\n",
       "      <td>No</td>\n",
       "    </tr>\n",
       "    <tr>\n",
       "      <th>10</th>\n",
       "      <td>734536231958495</td>\n",
       "      <td>F</td>\n",
       "      <td>2016-04-27 14:58:11+00:00</td>\n",
       "      <td>2016-04-29 00:00:00+00:00</td>\n",
       "      <td>30</td>\n",
       "      <td>NOVA PALESTINA</td>\n",
       "      <td>0</td>\n",
       "      <td>0</td>\n",
       "      <td>0</td>\n",
       "      <td>0</td>\n",
       "      <td>0</td>\n",
       "      <td>0</td>\n",
       "      <td>No</td>\n",
       "    </tr>\n",
       "    <tr>\n",
       "      <th>...</th>\n",
       "      <td>...</td>\n",
       "      <td>...</td>\n",
       "      <td>...</td>\n",
       "      <td>...</td>\n",
       "      <td>...</td>\n",
       "      <td>...</td>\n",
       "      <td>...</td>\n",
       "      <td>...</td>\n",
       "      <td>...</td>\n",
       "      <td>...</td>\n",
       "      <td>...</td>\n",
       "      <td>...</td>\n",
       "      <td>...</td>\n",
       "    </tr>\n",
       "    <tr>\n",
       "      <th>110515</th>\n",
       "      <td>645634214296344</td>\n",
       "      <td>M</td>\n",
       "      <td>2016-06-06 15:58:05+00:00</td>\n",
       "      <td>2016-06-08 00:00:00+00:00</td>\n",
       "      <td>33</td>\n",
       "      <td>MARIA ORTIZ</td>\n",
       "      <td>0</td>\n",
       "      <td>1</td>\n",
       "      <td>0</td>\n",
       "      <td>0</td>\n",
       "      <td>0</td>\n",
       "      <td>0</td>\n",
       "      <td>Yes</td>\n",
       "    </tr>\n",
       "    <tr>\n",
       "      <th>110516</th>\n",
       "      <td>69237724436761</td>\n",
       "      <td>F</td>\n",
       "      <td>2016-06-07 07:45:16+00:00</td>\n",
       "      <td>2016-06-08 00:00:00+00:00</td>\n",
       "      <td>37</td>\n",
       "      <td>MARIA ORTIZ</td>\n",
       "      <td>0</td>\n",
       "      <td>0</td>\n",
       "      <td>0</td>\n",
       "      <td>0</td>\n",
       "      <td>0</td>\n",
       "      <td>0</td>\n",
       "      <td>Yes</td>\n",
       "    </tr>\n",
       "    <tr>\n",
       "      <th>110517</th>\n",
       "      <td>5574942418928</td>\n",
       "      <td>F</td>\n",
       "      <td>2016-06-07 07:38:34+00:00</td>\n",
       "      <td>2016-06-07 00:00:00+00:00</td>\n",
       "      <td>19</td>\n",
       "      <td>MARIA ORTIZ</td>\n",
       "      <td>0</td>\n",
       "      <td>0</td>\n",
       "      <td>0</td>\n",
       "      <td>0</td>\n",
       "      <td>0</td>\n",
       "      <td>0</td>\n",
       "      <td>No</td>\n",
       "    </tr>\n",
       "    <tr>\n",
       "      <th>110519</th>\n",
       "      <td>65423877893936</td>\n",
       "      <td>F</td>\n",
       "      <td>2016-04-27 15:23:14+00:00</td>\n",
       "      <td>2016-06-07 00:00:00+00:00</td>\n",
       "      <td>22</td>\n",
       "      <td>MARIA ORTIZ</td>\n",
       "      <td>0</td>\n",
       "      <td>0</td>\n",
       "      <td>0</td>\n",
       "      <td>0</td>\n",
       "      <td>0</td>\n",
       "      <td>1</td>\n",
       "      <td>No</td>\n",
       "    </tr>\n",
       "    <tr>\n",
       "      <th>110524</th>\n",
       "      <td>15576631729893</td>\n",
       "      <td>F</td>\n",
       "      <td>2016-04-27 16:03:52+00:00</td>\n",
       "      <td>2016-06-07 00:00:00+00:00</td>\n",
       "      <td>21</td>\n",
       "      <td>MARIA ORTIZ</td>\n",
       "      <td>0</td>\n",
       "      <td>0</td>\n",
       "      <td>0</td>\n",
       "      <td>0</td>\n",
       "      <td>0</td>\n",
       "      <td>1</td>\n",
       "      <td>No</td>\n",
       "    </tr>\n",
       "  </tbody>\n",
       "</table>\n",
       "<p>52254 rows × 13 columns</p>\n",
       "</div>"
      ],
      "text/plain": [
       "              PatientId Gender              ScheduledDay  \\\n",
       "3          867951213174      F 2016-04-29 17:29:31+00:00   \n",
       "6       733688164476661      F 2016-04-27 15:05:12+00:00   \n",
       "8        56394729949972      F 2016-04-29 08:02:16+00:00   \n",
       "9        78124564369297      F 2016-04-27 12:48:25+00:00   \n",
       "10      734536231958495      F 2016-04-27 14:58:11+00:00   \n",
       "...                 ...    ...                       ...   \n",
       "110515  645634214296344      M 2016-06-06 15:58:05+00:00   \n",
       "110516   69237724436761      F 2016-06-07 07:45:16+00:00   \n",
       "110517    5574942418928      F 2016-06-07 07:38:34+00:00   \n",
       "110519   65423877893936      F 2016-04-27 15:23:14+00:00   \n",
       "110524   15576631729893      F 2016-04-27 16:03:52+00:00   \n",
       "\n",
       "                  AppointmentDay  Age      Neighbourhood  Scholarship  \\\n",
       "3      2016-04-29 00:00:00+00:00    8  PONTAL DE CAMBURI            0   \n",
       "6      2016-04-29 00:00:00+00:00   23         GOIABEIRAS            0   \n",
       "8      2016-04-29 00:00:00+00:00   21         ANDORINHAS            0   \n",
       "9      2016-04-29 00:00:00+00:00   19          CONQUISTA            0   \n",
       "10     2016-04-29 00:00:00+00:00   30     NOVA PALESTINA            0   \n",
       "...                          ...  ...                ...          ...   \n",
       "110515 2016-06-08 00:00:00+00:00   33        MARIA ORTIZ            0   \n",
       "110516 2016-06-08 00:00:00+00:00   37        MARIA ORTIZ            0   \n",
       "110517 2016-06-07 00:00:00+00:00   19        MARIA ORTIZ            0   \n",
       "110519 2016-06-07 00:00:00+00:00   22        MARIA ORTIZ            0   \n",
       "110524 2016-06-07 00:00:00+00:00   21        MARIA ORTIZ            0   \n",
       "\n",
       "        Hypertension  Diabetes  Alcoholism  Handicap  SMS_received No_show  \n",
       "3                  0         0           0         0             0      No  \n",
       "6                  0         0           0         0             0     Yes  \n",
       "8                  0         0           0         0             0      No  \n",
       "9                  0         0           0         0             0      No  \n",
       "10                 0         0           0         0             0      No  \n",
       "...              ...       ...         ...       ...           ...     ...  \n",
       "110515             1         0           0         0             0     Yes  \n",
       "110516             0         0           0         0             0     Yes  \n",
       "110517             0         0           0         0             0      No  \n",
       "110519             0         0           0         0             1      No  \n",
       "110524             0         0           0         0             1      No  \n",
       "\n",
       "[52254 rows x 13 columns]"
      ]
     },
     "execution_count": 40,
     "metadata": {},
     "output_type": "execute_result"
    }
   ],
   "source": [
    "young_age"
   ]
  },
  {
   "cell_type": "code",
   "execution_count": 41,
   "id": "1bcd7a65",
   "metadata": {},
   "outputs": [
    {
     "data": {
      "text/html": [
       "<div>\n",
       "<style scoped>\n",
       "    .dataframe tbody tr th:only-of-type {\n",
       "        vertical-align: middle;\n",
       "    }\n",
       "\n",
       "    .dataframe tbody tr th {\n",
       "        vertical-align: top;\n",
       "    }\n",
       "\n",
       "    .dataframe thead th {\n",
       "        text-align: right;\n",
       "    }\n",
       "</style>\n",
       "<table border=\"1\" class=\"dataframe\">\n",
       "  <thead>\n",
       "    <tr style=\"text-align: right;\">\n",
       "      <th></th>\n",
       "      <th>PatientId</th>\n",
       "      <th>Gender</th>\n",
       "      <th>ScheduledDay</th>\n",
       "      <th>AppointmentDay</th>\n",
       "      <th>Age</th>\n",
       "      <th>Neighbourhood</th>\n",
       "      <th>Scholarship</th>\n",
       "      <th>Hypertension</th>\n",
       "      <th>Diabetes</th>\n",
       "      <th>Alcoholism</th>\n",
       "      <th>Handicap</th>\n",
       "      <th>SMS_received</th>\n",
       "      <th>No_show</th>\n",
       "    </tr>\n",
       "  </thead>\n",
       "  <tbody>\n",
       "    <tr>\n",
       "      <th>0</th>\n",
       "      <td>29872499824296</td>\n",
       "      <td>F</td>\n",
       "      <td>2016-04-29 18:38:08+00:00</td>\n",
       "      <td>2016-04-29 00:00:00+00:00</td>\n",
       "      <td>62</td>\n",
       "      <td>JARDIM DA PENHA</td>\n",
       "      <td>0</td>\n",
       "      <td>1</td>\n",
       "      <td>0</td>\n",
       "      <td>0</td>\n",
       "      <td>0</td>\n",
       "      <td>0</td>\n",
       "      <td>No</td>\n",
       "    </tr>\n",
       "    <tr>\n",
       "      <th>1</th>\n",
       "      <td>558997776694438</td>\n",
       "      <td>M</td>\n",
       "      <td>2016-04-29 16:08:27+00:00</td>\n",
       "      <td>2016-04-29 00:00:00+00:00</td>\n",
       "      <td>56</td>\n",
       "      <td>JARDIM DA PENHA</td>\n",
       "      <td>0</td>\n",
       "      <td>0</td>\n",
       "      <td>0</td>\n",
       "      <td>0</td>\n",
       "      <td>0</td>\n",
       "      <td>0</td>\n",
       "      <td>No</td>\n",
       "    </tr>\n",
       "    <tr>\n",
       "      <th>2</th>\n",
       "      <td>4262962299951</td>\n",
       "      <td>F</td>\n",
       "      <td>2016-04-29 16:19:04+00:00</td>\n",
       "      <td>2016-04-29 00:00:00+00:00</td>\n",
       "      <td>62</td>\n",
       "      <td>MATA DA PRAIA</td>\n",
       "      <td>0</td>\n",
       "      <td>0</td>\n",
       "      <td>0</td>\n",
       "      <td>0</td>\n",
       "      <td>0</td>\n",
       "      <td>0</td>\n",
       "      <td>No</td>\n",
       "    </tr>\n",
       "    <tr>\n",
       "      <th>4</th>\n",
       "      <td>8841186448183</td>\n",
       "      <td>F</td>\n",
       "      <td>2016-04-29 16:07:23+00:00</td>\n",
       "      <td>2016-04-29 00:00:00+00:00</td>\n",
       "      <td>56</td>\n",
       "      <td>JARDIM DA PENHA</td>\n",
       "      <td>0</td>\n",
       "      <td>1</td>\n",
       "      <td>1</td>\n",
       "      <td>0</td>\n",
       "      <td>0</td>\n",
       "      <td>0</td>\n",
       "      <td>No</td>\n",
       "    </tr>\n",
       "    <tr>\n",
       "      <th>5</th>\n",
       "      <td>95985133231274</td>\n",
       "      <td>F</td>\n",
       "      <td>2016-04-27 08:36:51+00:00</td>\n",
       "      <td>2016-04-29 00:00:00+00:00</td>\n",
       "      <td>76</td>\n",
       "      <td>REPÚBLICA</td>\n",
       "      <td>0</td>\n",
       "      <td>1</td>\n",
       "      <td>0</td>\n",
       "      <td>0</td>\n",
       "      <td>0</td>\n",
       "      <td>0</td>\n",
       "      <td>No</td>\n",
       "    </tr>\n",
       "    <tr>\n",
       "      <th>...</th>\n",
       "      <td>...</td>\n",
       "      <td>...</td>\n",
       "      <td>...</td>\n",
       "      <td>...</td>\n",
       "      <td>...</td>\n",
       "      <td>...</td>\n",
       "      <td>...</td>\n",
       "      <td>...</td>\n",
       "      <td>...</td>\n",
       "      <td>...</td>\n",
       "      <td>...</td>\n",
       "      <td>...</td>\n",
       "      <td>...</td>\n",
       "    </tr>\n",
       "    <tr>\n",
       "      <th>110521</th>\n",
       "      <td>36355337746436</td>\n",
       "      <td>F</td>\n",
       "      <td>2016-05-03 08:23:40+00:00</td>\n",
       "      <td>2016-06-07 00:00:00+00:00</td>\n",
       "      <td>53</td>\n",
       "      <td>MARIA ORTIZ</td>\n",
       "      <td>0</td>\n",
       "      <td>0</td>\n",
       "      <td>0</td>\n",
       "      <td>0</td>\n",
       "      <td>0</td>\n",
       "      <td>1</td>\n",
       "      <td>No</td>\n",
       "    </tr>\n",
       "    <tr>\n",
       "      <th>110522</th>\n",
       "      <td>2572134369293</td>\n",
       "      <td>F</td>\n",
       "      <td>2016-05-03 09:15:35+00:00</td>\n",
       "      <td>2016-06-07 00:00:00+00:00</td>\n",
       "      <td>56</td>\n",
       "      <td>MARIA ORTIZ</td>\n",
       "      <td>0</td>\n",
       "      <td>0</td>\n",
       "      <td>0</td>\n",
       "      <td>0</td>\n",
       "      <td>0</td>\n",
       "      <td>1</td>\n",
       "      <td>No</td>\n",
       "    </tr>\n",
       "    <tr>\n",
       "      <th>110523</th>\n",
       "      <td>3596266328735</td>\n",
       "      <td>F</td>\n",
       "      <td>2016-05-03 07:27:33+00:00</td>\n",
       "      <td>2016-06-07 00:00:00+00:00</td>\n",
       "      <td>51</td>\n",
       "      <td>MARIA ORTIZ</td>\n",
       "      <td>0</td>\n",
       "      <td>0</td>\n",
       "      <td>0</td>\n",
       "      <td>0</td>\n",
       "      <td>0</td>\n",
       "      <td>1</td>\n",
       "      <td>No</td>\n",
       "    </tr>\n",
       "    <tr>\n",
       "      <th>110525</th>\n",
       "      <td>92134931435557</td>\n",
       "      <td>F</td>\n",
       "      <td>2016-04-27 15:09:23+00:00</td>\n",
       "      <td>2016-06-07 00:00:00+00:00</td>\n",
       "      <td>38</td>\n",
       "      <td>MARIA ORTIZ</td>\n",
       "      <td>0</td>\n",
       "      <td>0</td>\n",
       "      <td>0</td>\n",
       "      <td>0</td>\n",
       "      <td>0</td>\n",
       "      <td>1</td>\n",
       "      <td>No</td>\n",
       "    </tr>\n",
       "    <tr>\n",
       "      <th>110526</th>\n",
       "      <td>377511518121127</td>\n",
       "      <td>F</td>\n",
       "      <td>2016-04-27 13:30:56+00:00</td>\n",
       "      <td>2016-06-07 00:00:00+00:00</td>\n",
       "      <td>54</td>\n",
       "      <td>MARIA ORTIZ</td>\n",
       "      <td>0</td>\n",
       "      <td>0</td>\n",
       "      <td>0</td>\n",
       "      <td>0</td>\n",
       "      <td>0</td>\n",
       "      <td>1</td>\n",
       "      <td>No</td>\n",
       "    </tr>\n",
       "  </tbody>\n",
       "</table>\n",
       "<p>54124 rows × 13 columns</p>\n",
       "</div>"
      ],
      "text/plain": [
       "              PatientId Gender              ScheduledDay  \\\n",
       "0        29872499824296      F 2016-04-29 18:38:08+00:00   \n",
       "1       558997776694438      M 2016-04-29 16:08:27+00:00   \n",
       "2         4262962299951      F 2016-04-29 16:19:04+00:00   \n",
       "4         8841186448183      F 2016-04-29 16:07:23+00:00   \n",
       "5        95985133231274      F 2016-04-27 08:36:51+00:00   \n",
       "...                 ...    ...                       ...   \n",
       "110521   36355337746436      F 2016-05-03 08:23:40+00:00   \n",
       "110522    2572134369293      F 2016-05-03 09:15:35+00:00   \n",
       "110523    3596266328735      F 2016-05-03 07:27:33+00:00   \n",
       "110525   92134931435557      F 2016-04-27 15:09:23+00:00   \n",
       "110526  377511518121127      F 2016-04-27 13:30:56+00:00   \n",
       "\n",
       "                  AppointmentDay  Age    Neighbourhood  Scholarship  \\\n",
       "0      2016-04-29 00:00:00+00:00   62  JARDIM DA PENHA            0   \n",
       "1      2016-04-29 00:00:00+00:00   56  JARDIM DA PENHA            0   \n",
       "2      2016-04-29 00:00:00+00:00   62    MATA DA PRAIA            0   \n",
       "4      2016-04-29 00:00:00+00:00   56  JARDIM DA PENHA            0   \n",
       "5      2016-04-29 00:00:00+00:00   76        REPÚBLICA            0   \n",
       "...                          ...  ...              ...          ...   \n",
       "110521 2016-06-07 00:00:00+00:00   53      MARIA ORTIZ            0   \n",
       "110522 2016-06-07 00:00:00+00:00   56      MARIA ORTIZ            0   \n",
       "110523 2016-06-07 00:00:00+00:00   51      MARIA ORTIZ            0   \n",
       "110525 2016-06-07 00:00:00+00:00   38      MARIA ORTIZ            0   \n",
       "110526 2016-06-07 00:00:00+00:00   54      MARIA ORTIZ            0   \n",
       "\n",
       "        Hypertension  Diabetes  Alcoholism  Handicap  SMS_received No_show  \n",
       "0                  1         0           0         0             0      No  \n",
       "1                  0         0           0         0             0      No  \n",
       "2                  0         0           0         0             0      No  \n",
       "4                  1         1           0         0             0      No  \n",
       "5                  1         0           0         0             0      No  \n",
       "...              ...       ...         ...       ...           ...     ...  \n",
       "110521             0         0           0         0             1      No  \n",
       "110522             0         0           0         0             1      No  \n",
       "110523             0         0           0         0             1      No  \n",
       "110525             0         0           0         0             1      No  \n",
       "110526             0         0           0         0             1      No  \n",
       "\n",
       "[54124 rows x 13 columns]"
      ]
     },
     "execution_count": 41,
     "metadata": {},
     "output_type": "execute_result"
    }
   ],
   "source": [
    "old_age"
   ]
  },
  {
   "cell_type": "markdown",
   "id": "da6daa2e",
   "metadata": {},
   "source": [
    "DATA ANALYSIS"
   ]
  },
  {
   "cell_type": "code",
   "execution_count": 84,
   "id": "89f8b60d",
   "metadata": {},
   "outputs": [],
   "source": [
    "def z_countplot(dfdata, xdata, axlabel, aylabel, atitle, acolor = None,):\n",
    "    a = sns.countplot(data = dfdata, x = xdata, color = acolor)\n",
    "    plt.title(atitle)\n",
    "    plt.xlabel(axlabel)\n",
    "    plt.ylabel(aylabel)\n",
    "    return a\n",
    "    "
   ]
  },
  {
   "cell_type": "code",
   "execution_count": 85,
   "id": "28d601a8",
   "metadata": {},
   "outputs": [],
   "source": [
    "def barPlot(xdata, ydata, axlabel, aylabel, atitle, aerrwidth = None):\n",
    "    a = sns.barplot(x = xdata, y = ydata, errwidth = aerrwidth)\n",
    "    a.set(xlabel = axlabel, ylabel = aylabel, title = atitle)\n",
    "    return a"
   ]
  },
  {
   "cell_type": "code",
   "execution_count": 44,
   "id": "0bf95622",
   "metadata": {},
   "outputs": [
    {
     "data": {
      "image/png": "[encoded data removed]",
      "text/plain": [
       "<Figure size 720x360 with 2 Axes>"
      ]
     },
     "metadata": {},
     "output_type": "display_data"
    }
   ],
   "source": [
    "#How is the no show rate like in this dataset\n",
    "\n",
    "plt.figure(figsize = (10,5))\n",
    "plt.subplot(1,2,1)\n",
    "z_countplot(df, 'No_show', 'No Show', 'Appointment counts', 'Appointment counts on showing up')\n",
    "\n",
    "plt.subplot(1,2,2)\n",
    "df.No_show.value_counts().plot(kind = 'pie', autopct = '%1.0f%%')\n",
    "plt.title('Percentage of no show appointments')\n",
    "plt.show()"
   ]
  },
  {
   "cell_type": "markdown",
   "id": "21bb2192",
   "metadata": {},
   "source": [
    "#QUESTION 1\n",
    "\n",
    "Does gender have an effect on no show appointments?"
   ]
  },
  {
   "cell_type": "code",
   "execution_count": 45,
   "id": "a513157f",
   "metadata": {},
   "outputs": [
    {
     "data": {
      "image/png": "[encoded data removed]",
      "text/plain": [
       "<Figure size 432x288 with 1 Axes>"
      ]
     },
     "metadata": {},
     "output_type": "display_data"
    }
   ],
   "source": [
    "df.Gender.hist()\n",
    "plt.xlabel(\"Gender\")\n",
    "plt.ylabel(\"Frequency\");\n",
    "\n",
    "#There are more female appointments than male"
   ]
  },
  {
   "cell_type": "code",
   "execution_count": 46,
   "id": "29829cc5",
   "metadata": {},
   "outputs": [
    {
     "data": {
      "image/png": "[encoded data removed]",
      "text/plain": [
       "<Figure size 720x360 with 1 Axes>"
      ]
     },
     "metadata": {},
     "output_type": "display_data"
    }
   ],
   "source": [
    "plt.figure(figsize = (10,5))\n",
    "plt.subplot(1,2,1)\n",
    "z_countplot(df, 'Gender', 'Gender', 'Appointment Count', 'Appointments Count by Gender');"
   ]
  },
  {
   "cell_type": "markdown",
   "id": "437a7a7b",
   "metadata": {},
   "source": [
    "From the figure above, it appears as though there are more female appointments than there are male. It could mean they take better care of their health than the men or they simply are in more need of medical appointments for a various number of reasons than the men"
   ]
  },
  {
   "cell_type": "code",
   "execution_count": 47,
   "id": "c79ddc51",
   "metadata": {},
   "outputs": [
    {
     "data": {
      "text/plain": [
       "F    69706\n",
       "M    36672\n",
       "Name: Gender, dtype: int64"
      ]
     },
     "execution_count": 47,
     "metadata": {},
     "output_type": "execute_result"
    }
   ],
   "source": [
    "#checking which of the genders miss more appointments\n",
    "\n",
    "total_no_of_gender = df['Gender'].value_counts()\n",
    "total_no_of_gender"
   ]
  },
  {
   "cell_type": "code",
   "execution_count": 48,
   "id": "0628f07c",
   "metadata": {},
   "outputs": [
    {
     "data": {
      "text/plain": [
       "Gender  No_show\n",
       "F       No         55566\n",
       "        Yes        14140\n",
       "M       No         29343\n",
       "        Yes         7329\n",
       "Name: Age, dtype: int64"
      ]
     },
     "execution_count": 48,
     "metadata": {},
     "output_type": "execute_result"
    }
   ],
   "source": [
    "no_show_by_gender = df.groupby(['Gender', 'No_show']).count()['Age']\n",
    "no_show_by_gender"
   ]
  },
  {
   "cell_type": "markdown",
   "id": "6545a365",
   "metadata": {},
   "source": [
    "From the result above, the female have a higher number of both missed appointments and kept appoinments. However, this may not be entirely accurate as we have a higher number of women than men in the dataset"
   ]
  },
  {
   "cell_type": "code",
   "execution_count": 49,
   "id": "e9f9d94f",
   "metadata": {},
   "outputs": [
    {
     "data": {
      "text/plain": [
       "No_show\n",
       "No     0.797148\n",
       "Yes    0.202852\n",
       "Name: Age, dtype: float64"
      ]
     },
     "execution_count": 49,
     "metadata": {},
     "output_type": "execute_result"
    }
   ],
   "source": [
    "#we need to calculate the frequencies for both genders\n",
    "#for the females\n",
    "\n",
    "f_proportions = no_show_by_gender['F'] / total_no_of_gender['F']\n",
    "\n",
    "f_proportions"
   ]
  },
  {
   "cell_type": "code",
   "execution_count": 50,
   "id": "49ac55c8",
   "metadata": {},
   "outputs": [
    {
     "data": {
      "text/plain": [
       "No_show\n",
       "No     0.800147\n",
       "Yes    0.199853\n",
       "Name: Age, dtype: float64"
      ]
     },
     "execution_count": 50,
     "metadata": {},
     "output_type": "execute_result"
    }
   ],
   "source": [
    "#for the males\n",
    "\n",
    "m_proportions = no_show_by_gender['M'] / total_no_of_gender['M']\n",
    "\n",
    "m_proportions"
   ]
  },
  {
   "cell_type": "markdown",
   "id": "81188774",
   "metadata": {},
   "source": [
    "From the results above there is very little difference in the no show proportion rate between the males and the females\n",
    "\n",
    "The females have a show up rate of 0.797148 while the males have a show up rate of 0.800147\n",
    "The females also have a no show up rate of 0.202852 while the males have a no show up rate of 0.199853\n",
    "\n",
    "we can hereby conclude that gender has little to no effect on the show up rate"
   ]
  },
  {
   "cell_type": "markdown",
   "id": "7daaad2a",
   "metadata": {},
   "source": [
    "# Question2\n",
    "\n",
    "Does weekday have anything to do with showing up to appointments?\n",
    "\n"
   ]
  },
  {
   "cell_type": "markdown",
   "id": "ff777787",
   "metadata": {},
   "source": [
    "This is a particularly interesting question as the weekday might indeed play a role in determining if a patient shows up to an appointment or not as a lot of people particularly work during the week but have time during the weekends to show up for a medical appointment\n"
   ]
  },
  {
   "cell_type": "code",
   "execution_count": 51,
   "id": "322e178f",
   "metadata": {},
   "outputs": [],
   "source": [
    "#creating new columns for days of the week, month\n",
    "\n",
    "df['ScheduledDay'] = df['ScheduledDay'].dt.date"
   ]
  },
  {
   "cell_type": "code",
   "execution_count": 52,
   "id": "a9fa9c4d",
   "metadata": {},
   "outputs": [],
   "source": [
    "df['AppointmentDay'] = df['AppointmentDay'].dt.date"
   ]
  },
  {
   "cell_type": "code",
   "execution_count": 53,
   "id": "013dbc3e",
   "metadata": {},
   "outputs": [],
   "source": [
    "df['AppointmentWeekday'] = pd.to_datetime(df.AppointmentDay).dt.day_name()"
   ]
  },
  {
   "cell_type": "code",
   "execution_count": 54,
   "id": "0d188243",
   "metadata": {},
   "outputs": [],
   "source": [
    "df['AppointmentMonth'] = pd.to_datetime(df.AppointmentDay).dt.month_name()"
   ]
  },
  {
   "cell_type": "code",
   "execution_count": 55,
   "id": "9f501101",
   "metadata": {},
   "outputs": [
    {
     "data": {
      "text/html": [
       "<div>\n",
       "<style scoped>\n",
       "    .dataframe tbody tr th:only-of-type {\n",
       "        vertical-align: middle;\n",
       "    }\n",
       "\n",
       "    .dataframe tbody tr th {\n",
       "        vertical-align: top;\n",
       "    }\n",
       "\n",
       "    .dataframe thead th {\n",
       "        text-align: right;\n",
       "    }\n",
       "</style>\n",
       "<table border=\"1\" class=\"dataframe\">\n",
       "  <thead>\n",
       "    <tr style=\"text-align: right;\">\n",
       "      <th></th>\n",
       "      <th>PatientId</th>\n",
       "      <th>Gender</th>\n",
       "      <th>ScheduledDay</th>\n",
       "      <th>AppointmentDay</th>\n",
       "      <th>Age</th>\n",
       "      <th>Neighbourhood</th>\n",
       "      <th>Scholarship</th>\n",
       "      <th>Hypertension</th>\n",
       "      <th>Diabetes</th>\n",
       "      <th>Alcoholism</th>\n",
       "      <th>Handicap</th>\n",
       "      <th>SMS_received</th>\n",
       "      <th>No_show</th>\n",
       "      <th>AppointmentWeekday</th>\n",
       "      <th>AppointmentMonth</th>\n",
       "    </tr>\n",
       "  </thead>\n",
       "  <tbody>\n",
       "    <tr>\n",
       "      <th>0</th>\n",
       "      <td>29872499824296</td>\n",
       "      <td>F</td>\n",
       "      <td>2016-04-29</td>\n",
       "      <td>2016-04-29</td>\n",
       "      <td>62</td>\n",
       "      <td>JARDIM DA PENHA</td>\n",
       "      <td>0</td>\n",
       "      <td>1</td>\n",
       "      <td>0</td>\n",
       "      <td>0</td>\n",
       "      <td>0</td>\n",
       "      <td>0</td>\n",
       "      <td>No</td>\n",
       "      <td>Friday</td>\n",
       "      <td>April</td>\n",
       "    </tr>\n",
       "    <tr>\n",
       "      <th>1</th>\n",
       "      <td>558997776694438</td>\n",
       "      <td>M</td>\n",
       "      <td>2016-04-29</td>\n",
       "      <td>2016-04-29</td>\n",
       "      <td>56</td>\n",
       "      <td>JARDIM DA PENHA</td>\n",
       "      <td>0</td>\n",
       "      <td>0</td>\n",
       "      <td>0</td>\n",
       "      <td>0</td>\n",
       "      <td>0</td>\n",
       "      <td>0</td>\n",
       "      <td>No</td>\n",
       "      <td>Friday</td>\n",
       "      <td>April</td>\n",
       "    </tr>\n",
       "    <tr>\n",
       "      <th>2</th>\n",
       "      <td>4262962299951</td>\n",
       "      <td>F</td>\n",
       "      <td>2016-04-29</td>\n",
       "      <td>2016-04-29</td>\n",
       "      <td>62</td>\n",
       "      <td>MATA DA PRAIA</td>\n",
       "      <td>0</td>\n",
       "      <td>0</td>\n",
       "      <td>0</td>\n",
       "      <td>0</td>\n",
       "      <td>0</td>\n",
       "      <td>0</td>\n",
       "      <td>No</td>\n",
       "      <td>Friday</td>\n",
       "      <td>April</td>\n",
       "    </tr>\n",
       "    <tr>\n",
       "      <th>3</th>\n",
       "      <td>867951213174</td>\n",
       "      <td>F</td>\n",
       "      <td>2016-04-29</td>\n",
       "      <td>2016-04-29</td>\n",
       "      <td>8</td>\n",
       "      <td>PONTAL DE CAMBURI</td>\n",
       "      <td>0</td>\n",
       "      <td>0</td>\n",
       "      <td>0</td>\n",
       "      <td>0</td>\n",
       "      <td>0</td>\n",
       "      <td>0</td>\n",
       "      <td>No</td>\n",
       "      <td>Friday</td>\n",
       "      <td>April</td>\n",
       "    </tr>\n",
       "    <tr>\n",
       "      <th>4</th>\n",
       "      <td>8841186448183</td>\n",
       "      <td>F</td>\n",
       "      <td>2016-04-29</td>\n",
       "      <td>2016-04-29</td>\n",
       "      <td>56</td>\n",
       "      <td>JARDIM DA PENHA</td>\n",
       "      <td>0</td>\n",
       "      <td>1</td>\n",
       "      <td>1</td>\n",
       "      <td>0</td>\n",
       "      <td>0</td>\n",
       "      <td>0</td>\n",
       "      <td>No</td>\n",
       "      <td>Friday</td>\n",
       "      <td>April</td>\n",
       "    </tr>\n",
       "  </tbody>\n",
       "</table>\n",
       "</div>"
      ],
      "text/plain": [
       "         PatientId Gender ScheduledDay AppointmentDay  Age      Neighbourhood  \\\n",
       "0   29872499824296      F   2016-04-29     2016-04-29   62    JARDIM DA PENHA   \n",
       "1  558997776694438      M   2016-04-29     2016-04-29   56    JARDIM DA PENHA   \n",
       "2    4262962299951      F   2016-04-29     2016-04-29   62      MATA DA PRAIA   \n",
       "3     867951213174      F   2016-04-29     2016-04-29    8  PONTAL DE CAMBURI   \n",
       "4    8841186448183      F   2016-04-29     2016-04-29   56    JARDIM DA PENHA   \n",
       "\n",
       "   Scholarship  Hypertension  Diabetes  Alcoholism  Handicap  SMS_received  \\\n",
       "0            0             1         0           0         0             0   \n",
       "1            0             0         0           0         0             0   \n",
       "2            0             0         0           0         0             0   \n",
       "3            0             0         0           0         0             0   \n",
       "4            0             1         1           0         0             0   \n",
       "\n",
       "  No_show AppointmentWeekday AppointmentMonth  \n",
       "0      No             Friday            April  \n",
       "1      No             Friday            April  \n",
       "2      No             Friday            April  \n",
       "3      No             Friday            April  \n",
       "4      No             Friday            April  "
      ]
     },
     "execution_count": 55,
     "metadata": {},
     "output_type": "execute_result"
    }
   ],
   "source": [
    "df.head()"
   ]
  },
  {
   "cell_type": "code",
   "execution_count": 56,
   "id": "dc0564be",
   "metadata": {},
   "outputs": [
    {
     "data": {
      "text/plain": [
       "array(['April', 'May', 'June'], dtype=object)"
      ]
     },
     "execution_count": 56,
     "metadata": {},
     "output_type": "execute_result"
    }
   ],
   "source": [
    "#There are only 3 unique months in the dataset\n",
    "\n",
    "df['AppointmentMonth'].unique()"
   ]
  },
  {
   "cell_type": "code",
   "execution_count": 57,
   "id": "c9dc5472",
   "metadata": {},
   "outputs": [
    {
     "data": {
      "text/plain": [
       "array(['Friday', 'Tuesday', 'Monday', 'Wednesday', 'Thursday', 'Saturday'],\n",
       "      dtype=object)"
      ]
     },
     "execution_count": 57,
     "metadata": {},
     "output_type": "execute_result"
    }
   ],
   "source": [
    "#There are appointment everyday except for Sundays\n",
    "\n",
    "df['AppointmentWeekday'].unique()"
   ]
  },
  {
   "cell_type": "code",
   "execution_count": 58,
   "id": "38168635",
   "metadata": {},
   "outputs": [
    {
     "data": {
      "text/html": [
       "<div>\n",
       "<style scoped>\n",
       "    .dataframe tbody tr th:only-of-type {\n",
       "        vertical-align: middle;\n",
       "    }\n",
       "\n",
       "    .dataframe tbody tr th {\n",
       "        vertical-align: top;\n",
       "    }\n",
       "\n",
       "    .dataframe thead th {\n",
       "        text-align: right;\n",
       "    }\n",
       "</style>\n",
       "<table border=\"1\" class=\"dataframe\">\n",
       "  <thead>\n",
       "    <tr style=\"text-align: right;\">\n",
       "      <th></th>\n",
       "      <th>PatientId</th>\n",
       "      <th>Gender</th>\n",
       "      <th>ScheduledDay</th>\n",
       "      <th>AppointmentDay</th>\n",
       "      <th>Age</th>\n",
       "      <th>Neighbourhood</th>\n",
       "      <th>Scholarship</th>\n",
       "      <th>Hypertension</th>\n",
       "      <th>Diabetes</th>\n",
       "      <th>Alcoholism</th>\n",
       "      <th>Handicap</th>\n",
       "      <th>SMS_received</th>\n",
       "      <th>No_show</th>\n",
       "      <th>AppointmentWeekday</th>\n",
       "      <th>AppointmentMonth</th>\n",
       "    </tr>\n",
       "  </thead>\n",
       "  <tbody>\n",
       "    <tr>\n",
       "      <th>27033</th>\n",
       "      <td>7839272661752</td>\n",
       "      <td>M</td>\n",
       "      <td>2016-05-10</td>\n",
       "      <td>2016-05-09</td>\n",
       "      <td>38</td>\n",
       "      <td>RESISTÊNCIA</td>\n",
       "      <td>0</td>\n",
       "      <td>0</td>\n",
       "      <td>0</td>\n",
       "      <td>0</td>\n",
       "      <td>1</td>\n",
       "      <td>0</td>\n",
       "      <td>Yes</td>\n",
       "      <td>Monday</td>\n",
       "      <td>May</td>\n",
       "    </tr>\n",
       "    <tr>\n",
       "      <th>55226</th>\n",
       "      <td>7896293967868</td>\n",
       "      <td>F</td>\n",
       "      <td>2016-05-18</td>\n",
       "      <td>2016-05-17</td>\n",
       "      <td>19</td>\n",
       "      <td>SANTO ANTÔNIO</td>\n",
       "      <td>0</td>\n",
       "      <td>0</td>\n",
       "      <td>0</td>\n",
       "      <td>0</td>\n",
       "      <td>1</td>\n",
       "      <td>0</td>\n",
       "      <td>Yes</td>\n",
       "      <td>Tuesday</td>\n",
       "      <td>May</td>\n",
       "    </tr>\n",
       "    <tr>\n",
       "      <th>64175</th>\n",
       "      <td>24252258389979</td>\n",
       "      <td>F</td>\n",
       "      <td>2016-05-05</td>\n",
       "      <td>2016-05-04</td>\n",
       "      <td>22</td>\n",
       "      <td>CONSOLAÇÃO</td>\n",
       "      <td>0</td>\n",
       "      <td>0</td>\n",
       "      <td>0</td>\n",
       "      <td>0</td>\n",
       "      <td>0</td>\n",
       "      <td>0</td>\n",
       "      <td>Yes</td>\n",
       "      <td>Wednesday</td>\n",
       "      <td>May</td>\n",
       "    </tr>\n",
       "    <tr>\n",
       "      <th>71533</th>\n",
       "      <td>998231581612122</td>\n",
       "      <td>F</td>\n",
       "      <td>2016-05-11</td>\n",
       "      <td>2016-05-05</td>\n",
       "      <td>81</td>\n",
       "      <td>SANTO ANTÔNIO</td>\n",
       "      <td>0</td>\n",
       "      <td>0</td>\n",
       "      <td>0</td>\n",
       "      <td>0</td>\n",
       "      <td>0</td>\n",
       "      <td>0</td>\n",
       "      <td>Yes</td>\n",
       "      <td>Thursday</td>\n",
       "      <td>May</td>\n",
       "    </tr>\n",
       "    <tr>\n",
       "      <th>72362</th>\n",
       "      <td>3787481966821</td>\n",
       "      <td>M</td>\n",
       "      <td>2016-05-04</td>\n",
       "      <td>2016-05-03</td>\n",
       "      <td>7</td>\n",
       "      <td>TABUAZEIRO</td>\n",
       "      <td>0</td>\n",
       "      <td>0</td>\n",
       "      <td>0</td>\n",
       "      <td>0</td>\n",
       "      <td>0</td>\n",
       "      <td>0</td>\n",
       "      <td>Yes</td>\n",
       "      <td>Tuesday</td>\n",
       "      <td>May</td>\n",
       "    </tr>\n",
       "  </tbody>\n",
       "</table>\n",
       "</div>"
      ],
      "text/plain": [
       "             PatientId Gender ScheduledDay AppointmentDay  Age  Neighbourhood  \\\n",
       "27033    7839272661752      M   2016-05-10     2016-05-09   38    RESISTÊNCIA   \n",
       "55226    7896293967868      F   2016-05-18     2016-05-17   19  SANTO ANTÔNIO   \n",
       "64175   24252258389979      F   2016-05-05     2016-05-04   22     CONSOLAÇÃO   \n",
       "71533  998231581612122      F   2016-05-11     2016-05-05   81  SANTO ANTÔNIO   \n",
       "72362    3787481966821      M   2016-05-04     2016-05-03    7     TABUAZEIRO   \n",
       "\n",
       "       Scholarship  Hypertension  Diabetes  Alcoholism  Handicap  \\\n",
       "27033            0             0         0           0         1   \n",
       "55226            0             0         0           0         1   \n",
       "64175            0             0         0           0         0   \n",
       "71533            0             0         0           0         0   \n",
       "72362            0             0         0           0         0   \n",
       "\n",
       "       SMS_received No_show AppointmentWeekday AppointmentMonth  \n",
       "27033             0     Yes             Monday              May  \n",
       "55226             0     Yes            Tuesday              May  \n",
       "64175             0     Yes          Wednesday              May  \n",
       "71533             0     Yes           Thursday              May  \n",
       "72362             0     Yes            Tuesday              May  "
      ]
     },
     "execution_count": 58,
     "metadata": {},
     "output_type": "execute_result"
    }
   ],
   "source": [
    "#are there appointment days before the scheduled day?\n",
    "\n",
    "df[df['ScheduledDay'] > df['AppointmentDay']]"
   ]
  },
  {
   "cell_type": "code",
   "execution_count": 59,
   "id": "d60b1afb",
   "metadata": {},
   "outputs": [],
   "source": [
    "#This looks to be an anomaly as you cannot be scheduled before your appointment day. It needs to be corrected\n",
    "\n",
    "df.drop(df[df['ScheduledDay'] > df['AppointmentDay']].index, inplace = True)"
   ]
  },
  {
   "cell_type": "code",
   "execution_count": 60,
   "id": "89636bdf",
   "metadata": {},
   "outputs": [
    {
     "data": {
      "text/plain": [
       "(106373, 15)"
      ]
     },
     "execution_count": 60,
     "metadata": {},
     "output_type": "execute_result"
    }
   ],
   "source": [
    "df.shape"
   ]
  },
  {
   "cell_type": "code",
   "execution_count": 61,
   "id": "c077706a",
   "metadata": {},
   "outputs": [
    {
     "data": {
      "image/png": "[encoded data removed]",
      "text/plain": [
       "<Figure size 648x720 with 1 Axes>"
      ]
     },
     "metadata": {},
     "output_type": "display_data"
    }
   ],
   "source": [
    "week_key = ['Monday', 'Tuesday', 'Wednesday', 'Thursday', 'Friday', 'Saturday', 'Sunday']\n",
    "plt.figure(figsize = [9, 10])\n",
    "plt.subplot(2, 1, 2)\n",
    "g2 = sns.countplot(data = df, x = 'AppointmentWeekday', order = week_key)\n",
    "g2.set(xlabel='Appointment day of week', ylabel='Count of appointments', title='Appointments count by day of week')\n",
    "\n",
    "plt.show()\n"
   ]
  },
  {
   "cell_type": "markdown",
   "id": "29001119",
   "metadata": {},
   "source": [
    "**_From the image above, most appointments happen to be on Tuesdays and Wednesdays_**"
   ]
  },
  {
   "cell_type": "code",
   "execution_count": 62,
   "id": "d1fe2574",
   "metadata": {},
   "outputs": [
    {
     "data": {
      "text/plain": [
       "Wednesday    24972\n",
       "Tuesday      24703\n",
       "Monday       21761\n",
       "Friday       18313\n",
       "Thursday     16585\n",
       "Saturday        39\n",
       "Name: AppointmentWeekday, dtype: int64"
      ]
     },
     "execution_count": 62,
     "metadata": {},
     "output_type": "execute_result"
    }
   ],
   "source": [
    "total_no_of_weekdays = df['AppointmentWeekday'].value_counts()\n",
    "total_no_of_weekdays\n"
   ]
  },
  {
   "cell_type": "code",
   "execution_count": 63,
   "id": "c9dc361c",
   "metadata": {},
   "outputs": [
    {
     "data": {
      "text/plain": [
       "AppointmentWeekday  No_show\n",
       "Friday              No         14418\n",
       "                    Yes         3895\n",
       "Monday              No         17302\n",
       "                    Yes         4459\n",
       "Saturday            No            30\n",
       "                    Yes            9\n",
       "Thursday            No         13368\n",
       "                    Yes         3217\n",
       "Tuesday             No         19729\n",
       "                    Yes         4974\n",
       "Wednesday           No         20062\n",
       "                    Yes         4910\n",
       "Name: Age, dtype: int64"
      ]
     },
     "execution_count": 63,
     "metadata": {},
     "output_type": "execute_result"
    }
   ],
   "source": [
    "no_show_by_weekday = df.groupby(['AppointmentWeekday', 'No_show']).count()['Age']\n",
    "no_show_by_weekday"
   ]
  },
  {
   "cell_type": "code",
   "execution_count": 64,
   "id": "e3e55788",
   "metadata": {},
   "outputs": [
    {
     "data": {
      "text/plain": [
       "No_show\n",
       "No     0.795092\n",
       "Yes    0.204908\n",
       "Name: Age, dtype: float64"
      ]
     },
     "execution_count": 64,
     "metadata": {},
     "output_type": "execute_result"
    }
   ],
   "source": [
    "m_proportions = no_show_by_weekday['Monday'] / total_no_of_weekdays['Monday']\n",
    "m_proportions"
   ]
  },
  {
   "cell_type": "code",
   "execution_count": 65,
   "id": "50ac224e",
   "metadata": {},
   "outputs": [
    {
     "data": {
      "text/plain": [
       "No_show\n",
       "No     0.798648\n",
       "Yes    0.201352\n",
       "Name: Age, dtype: float64"
      ]
     },
     "execution_count": 65,
     "metadata": {},
     "output_type": "execute_result"
    }
   ],
   "source": [
    "t_proportions = no_show_by_weekday['Tuesday'] / total_no_of_weekdays['Tuesday']\n",
    "t_proportions"
   ]
  },
  {
   "cell_type": "code",
   "execution_count": 66,
   "id": "2a5872a7",
   "metadata": {},
   "outputs": [
    {
     "data": {
      "text/plain": [
       "No_show\n",
       "No     0.80338\n",
       "Yes    0.19662\n",
       "Name: Age, dtype: float64"
      ]
     },
     "execution_count": 66,
     "metadata": {},
     "output_type": "execute_result"
    }
   ],
   "source": [
    "w_proportions = no_show_by_weekday['Wednesday'] / total_no_of_weekdays['Wednesday']\n",
    "w_proportions"
   ]
  },
  {
   "cell_type": "code",
   "execution_count": 67,
   "id": "d4f3ce42",
   "metadata": {},
   "outputs": [
    {
     "data": {
      "text/plain": [
       "No_show\n",
       "No     0.80603\n",
       "Yes    0.19397\n",
       "Name: Age, dtype: float64"
      ]
     },
     "execution_count": 67,
     "metadata": {},
     "output_type": "execute_result"
    }
   ],
   "source": [
    "th_proportions = no_show_by_weekday['Thursday'] / total_no_of_weekdays['Thursday']\n",
    "th_proportions"
   ]
  },
  {
   "cell_type": "code",
   "execution_count": 68,
   "id": "9c32e229",
   "metadata": {},
   "outputs": [
    {
     "data": {
      "text/plain": [
       "No_show\n",
       "No     0.78731\n",
       "Yes    0.21269\n",
       "Name: Age, dtype: float64"
      ]
     },
     "execution_count": 68,
     "metadata": {},
     "output_type": "execute_result"
    }
   ],
   "source": [
    "f_proportions = no_show_by_weekday['Friday'] / total_no_of_weekdays['Friday']\n",
    "f_proportions"
   ]
  },
  {
   "cell_type": "code",
   "execution_count": 69,
   "id": "712ca250",
   "metadata": {},
   "outputs": [
    {
     "data": {
      "text/plain": [
       "No_show\n",
       "No     0.769231\n",
       "Yes    0.230769\n",
       "Name: Age, dtype: float64"
      ]
     },
     "execution_count": 69,
     "metadata": {},
     "output_type": "execute_result"
    }
   ],
   "source": [
    "s_proportions = no_show_by_weekday['Saturday'] / total_no_of_weekdays['Saturday']\n",
    "s_proportions"
   ]
  },
  {
   "cell_type": "markdown",
   "id": "438c5e36",
   "metadata": {},
   "source": [
    "From the results above, there is a just a very slight difference between the rate of no shows per weekday. The weekday doesn't really have an effect on the no show rate of an individual"
   ]
  },
  {
   "cell_type": "code",
   "execution_count": 70,
   "id": "79c21f26",
   "metadata": {},
   "outputs": [
    {
     "name": "stdout",
     "output_type": "stream",
     "text": [
      "<class 'pandas.core.frame.DataFrame'>\n",
      "Int64Index: 106373 entries, 0 to 110526\n",
      "Data columns (total 15 columns):\n",
      " #   Column              Non-Null Count   Dtype \n",
      "---  ------              --------------   ----- \n",
      " 0   PatientId           106373 non-null  int64 \n",
      " 1   Gender              106373 non-null  object\n",
      " 2   ScheduledDay        106373 non-null  object\n",
      " 3   AppointmentDay      106373 non-null  object\n",
      " 4   Age                 106373 non-null  int64 \n",
      " 5   Neighbourhood       106373 non-null  object\n",
      " 6   Scholarship         106373 non-null  int64 \n",
      " 7   Hypertension        106373 non-null  int64 \n",
      " 8   Diabetes            106373 non-null  int64 \n",
      " 9   Alcoholism          106373 non-null  int64 \n",
      " 10  Handicap            106373 non-null  int64 \n",
      " 11  SMS_received        106373 non-null  int64 \n",
      " 12  No_show             106373 non-null  object\n",
      " 13  AppointmentWeekday  106373 non-null  object\n",
      " 14  AppointmentMonth    106373 non-null  object\n",
      "dtypes: int64(8), object(7)\n",
      "memory usage: 17.0+ MB\n"
     ]
    }
   ],
   "source": [
    "df.info()"
   ]
  },
  {
   "cell_type": "markdown",
   "id": "f6a6ff68",
   "metadata": {},
   "source": [
    "# Question 3\n",
    "\n",
    "are older patients more likely to miss an appointment than the younger ones?"
   ]
  },
  {
   "cell_type": "code",
   "execution_count": 71,
   "id": "e11c7963",
   "metadata": {},
   "outputs": [],
   "source": [
    "# NoShow column transformation\n",
    "df['No_show'].replace({'No': 0, 'Yes': 1}, inplace=True)\n"
   ]
  },
  {
   "cell_type": "code",
   "execution_count": 72,
   "id": "3aa243f1",
   "metadata": {},
   "outputs": [],
   "source": [
    "# NoShow type change\n",
    "df['No_show'] = df['No_show'].astype('bool')\n"
   ]
  },
  {
   "cell_type": "code",
   "execution_count": 73,
   "id": "1de18bbc",
   "metadata": {},
   "outputs": [],
   "source": [
    "#converting Schedule day to date time\n",
    "\n",
    "df.ScheduledDay = pd.to_datetime(df.ScheduledDay)"
   ]
  },
  {
   "cell_type": "code",
   "execution_count": 74,
   "id": "1014351c",
   "metadata": {},
   "outputs": [],
   "source": [
    "df.AppointmentDay = pd.to_datetime(df.AppointmentDay)"
   ]
  },
  {
   "cell_type": "code",
   "execution_count": 75,
   "id": "6fc1d8a3",
   "metadata": {},
   "outputs": [
    {
     "data": {
      "image/png": "[encoded data removed]",
      "text/plain": [
       "<Figure size 1800x576 with 1 Axes>"
      ]
     },
     "metadata": {},
     "output_type": "display_data"
    }
   ],
   "source": [
    "#as age increases between ages 15-80, the no show rate appears to be decreasing\n",
    "plt.figure(figsize=(25,8))\n",
    "plt.ylim(0,0.6)\n",
    "barPlot(df['Age'], df['No_show'], 'Age', 'No show rate', 'No show rate by age', 0)\n",
    "plt.show()"
   ]
  },
  {
   "cell_type": "markdown",
   "id": "d18cdc09",
   "metadata": {},
   "source": [
    "From the figure above, no show rate in this dataset decreases as age increases. There is a negative correlation between them"
   ]
  },
  {
   "cell_type": "code",
   "execution_count": 76,
   "id": "0e1b07b8",
   "metadata": {},
   "outputs": [
    {
     "data": {
      "text/plain": [
       "-0.06756541303341305"
      ]
     },
     "execution_count": 76,
     "metadata": {},
     "output_type": "execute_result"
    }
   ],
   "source": [
    "df['No_show'].corr(df[\"Age\"])"
   ]
  },
  {
   "cell_type": "markdown",
   "id": "7df23720",
   "metadata": {},
   "source": [
    "# Question 4\n",
    "\n",
    "which neighbourhoods have the highest and least show up rates ?"
   ]
  },
  {
   "cell_type": "code",
   "execution_count": 77,
   "id": "f80b1ce8",
   "metadata": {},
   "outputs": [
    {
     "data": {
      "image/png": "[encoded data removed]",
      "text/plain": [
       "<Figure size 2520x1800 with 2 Axes>"
      ]
     },
     "metadata": {},
     "output_type": "display_data"
    }
   ],
   "source": [
    "plt.figure(figsize=(35,25))\n",
    "\n",
    "#Appointment counts by Neighbourhood\n",
    "plt.subplot(2, 1, 1)\n",
    "plt.xticks(rotation=90)\n",
    "g = sns.countplot(data = df, x = 'Neighbourhood', order = df['Neighbourhood'].value_counts().index,color=sns.color_palette()[0])\n",
    "g.set(ylabel = 'Count of appointments', title = 'Appointments count by neighbourhood')\n",
    "\n",
    "plt.subplot(2, 1, 2)\n",
    "plt.xticks(rotation=90)\n",
    "g = sns.barplot(x = df['Neighbourhood'], y = df['No_show'], order = df['Neighbourhood'].value_counts().index,color=sns.color_palette()[0]);\n",
    "g.set_title('Appointments no show rate by neighbourhood')\n",
    "g.set(ylabel='No show rate', ylim=(0,0.55), xlabel='')\n",
    "\n",
    "\n",
    "plt.show()"
   ]
  },
  {
   "cell_type": "markdown",
   "id": "b26301eb",
   "metadata": {},
   "source": [
    "# Conclusions\n"
   ]
  },
  {
   "cell_type": "markdown",
   "id": "d5088564",
   "metadata": {},
   "source": [
    "From the analysis above;\n",
    "\n",
    "Q1. Does gender have an effect on no show appointments?\n",
    "\n",
    "- Although the dataset contains more female appointment records than male records, there is a very slight difference in the show up rate between the 2 genders. Gender has little or nothing to do with whether a patient shows up for their appointments or not"
   ]
  },
  {
   "cell_type": "markdown",
   "id": "5cc0d58d",
   "metadata": {},
   "source": [
    "Q2. Are patients more likely to miss an appointment on a weekday than a weekend?"
   ]
  },
  {
   "cell_type": "markdown",
   "id": "b0b06561",
   "metadata": {},
   "source": [
    "- Although Tuesday and Wednesday happen to have the highest number of appointments, they all have an identical show up rate. Weekday also has little or nothing to do with showing up for appointments "
   ]
  },
  {
   "cell_type": "markdown",
   "id": "b616a855",
   "metadata": {},
   "source": [
    "Q3. Are older patients more likely to miss an appointment than the younger ones?"
   ]
  },
  {
   "cell_type": "markdown",
   "id": "cd171f4b",
   "metadata": {},
   "source": [
    "- We discovered that the no show rate decreases as the age increases which means that the older a patient gets particularly within the ages of 15 - 80, the less likely they are to keep up with their appointment dates. Older patients are more likely to miss their appointment dates than the younger ones"
   ]
  },
  {
   "cell_type": "markdown",
   "id": "86eacd63",
   "metadata": {},
   "source": [
    "Q4. Which neighbourhoods have the highest and least show up rates ?"
   ]
  },
  {
   "cell_type": "markdown",
   "id": "c2c55991",
   "metadata": {},
   "source": [
    "- Although Jardim Camburi has the highest number of appointment counts, it doesn't have the highest no show rate.Ilhas Oceanicas de trinidade  has the highest no show rate in the dataset while Parque Industrial has the least no show rate in the dataset"
   ]
  },
  {
   "cell_type": "markdown",
   "id": "ffb232da",
   "metadata": {},
   "source": [
    "###### Limitations to this analysis"
   ]
  },
  {
   "cell_type": "markdown",
   "id": "cbfe3ae9",
   "metadata": {},
   "source": [
    "- The dataset contains records of just 3 months; April, May, June. \n",
    "\n",
    "- A wholesome dataset containing records from all the months in the year might be able to give more details and make for a more comprehensive analysis"
   ]
  },
  {
   "cell_type": "code",
   "execution_count": 78,
   "id": "60c2f771",
   "metadata": {},
   "outputs": [],
   "source": [
    "#df.to_csv('C:\\\\Users\\\\Admin\\\\Desktop\\\\noshowappointments1.csv', index = False)"
   ]
  },
  {
   "cell_type": "markdown",
   "id": "4b2e8d5c",
   "metadata": {},
   "source": [
    "references; Kaggle, Github, Google"
   ]
  },
  {
   "cell_type": "code",
   "execution_count": null,
   "id": "f6c3f30a",
   "metadata": {},
   "outputs": [],
   "source": []
  }
 ],
 "metadata": {
  "kernelspec": {
   "display_name": "Python 3 (ipykernel)",
   "language": "python",
   "name": "python3"
  },
  "language_info": {
   "codemirror_mode": {
    "name": "ipython",
    "version": 3
   },
   "file_extension": ".py",
   "mimetype": "text/x-python",
   "name": "python",
   "nbconvert_exporter": "python",
   "pygments_lexer": "ipython3",
   "version": "3.9.7"
  }
 },
 "nbformat": 4,
 "nbformat_minor": 5
}
